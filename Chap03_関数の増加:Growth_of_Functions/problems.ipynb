{
 "cells": [
  {
   "cell_type": "markdown",
   "id": "46daf0a1-c201-48a7-b3d1-b5f850088a1e",
   "metadata": {},
   "source": [
    "### 3-1 多項式の漸近的振舞い\n",
    "\n",
    "***\n",
    "\n",
    "> $p(n)= \\sum\\limits_{i=0}^{d} a_i n^i$\n",
    "> \n",
    ">を $ n $ に関する $ d $ 次の多項式とする. ただし,  $a_d > 0$ である.  $ k $ を定数とする. 漸近記法の定義を用いて以下の性質を証明せよ. \n",
    "> \n",
    "> __*a*__. $k \\ge d$ ならば $p(n)=O(n^k)$ である."
   ]
  },
  {
   "cell_type": "markdown",
   "id": "43c19506-2fca-4c25-ab9f-3e9689098db8",
   "metadata": {},
   "source": [
    "$$p(n)=\\sum_{i=0}^d a_i n^i \\le \\sum_{i=0}^d a_i n^k$$"
   ]
  },
  {
   "cell_type": "markdown",
   "id": "ccdf76e8-493d-4c27-a7fa-ca1e64a9a52d",
   "metadata": {},
   "source": [
    "> __*b*__. $k \\le d$ ならば $p(n)=\\Omega(n^k)$ である."
   ]
  },
  {
   "cell_type": "markdown",
   "id": "c464f7f7-97a0-4d8f-88d1-a1c00559506c",
   "metadata": {},
   "source": [
    "$$p(n)=\\sum_{i=0}^d a_i n^i \\ge \\sum_{i=k}^d a_i n^i$$"
   ]
  },
  {
   "cell_type": "markdown",
   "id": "825ee0fe-1f76-43fb-be4b-e4f8f2f4087b",
   "metadata": {},
   "source": [
    "> __*c*__. $k = d$ ならば $p(n)=\\Theta(n^k)$ である."
   ]
  },
  {
   "cell_type": "markdown",
   "id": "1a22ba47-09a5-411e-811f-5a26b1964455",
   "metadata": {},
   "source": [
    "$$p(n)=O(n^k)　そして,　p(n)=\\Theta(n^k)$$"
   ]
  },
  {
   "cell_type": "markdown",
   "id": "a01007e3-e8b9-4dc7-8cb8-09076d45b2f9",
   "metadata": {},
   "source": [
    "> __*d*__. $k > d$ ならば $p(n)=o(n^k)$ である."
   ]
  },
  {
   "cell_type": "markdown",
   "id": "79af142b-b951-410c-862d-32c4d0351cec",
   "metadata": {},
   "source": [
    "$$p(n)=\\sum_{i=0}^d a_i n^i < \\sum_{i=0}^d a_i n^k$$"
   ]
  },
  {
   "cell_type": "markdown",
   "id": "9ea83989-10fd-4ac6-b624-7119ae7f80f1",
   "metadata": {},
   "source": [
    "> __*e*__. $k < d$ ならば $p(n)=\\omega(n^k)$ である."
   ]
  },
  {
   "cell_type": "markdown",
   "id": "7d3dd46d-ee10-4e7d-8ef5-4a66bf95aa66",
   "metadata": {},
   "source": [
    "$$p(n)=\\sum_{i=0}^d a_i n^i > \\sum_{i=k}^d a_i n^i$$"
   ]
  },
  {
   "cell_type": "markdown",
   "id": "4195247d-dcb5-46ba-8bdf-c91067c832f2",
   "metadata": {},
   "source": [
    "### 3-2 相対的漸近増加\n",
    "\n",
    "***\n",
    "\n",
    "> 下表の式の対 $(A,B)$ のそれぞれに対して, $A$ は $B$ の $O$, $o$, $\\Omega$, $\\omega$, $\\Theta$ のどれであるかを示せ. ただし, $k \\geq 1$, $\\epsilon > 0$, $c > 1$は定数であると仮定する. テープルの各箱に◯×を記入せよ. \n",
    "\n",
    "\n",
    "| $A$ | $B$ | $O$ | $o$ | $\\Omega$ | $\\omega$ | $\\Theta$ |\n",
    "|:-:|:-:|:-:|:-:|:-:|:-:|:-:|\n",
    "| $\\lg^kn$ | $n^\\epsilon$ | ◯ | ◯ | × | × | × |\n",
    "| $n^k$ | $c^n$ | ◯ | ◯ | × | × | × |\n",
    "| $\\sqrt{n}$ | $n^{\\sin n}$ | × | × | × | × | × |\n",
    "| $2^n$ | $2^{n/2}$ | × | × | ◯ | ◯ | × |\n",
    "| $n^{\\lg c}$ | $c^{\\lg n}$ | ◯ | × | ◯ | × | ◯ |\n",
    "| $\\lg(n!)$ | $\\lg(n^n)$ | ◯ | × | ◯ | × | ◯ |"
   ]
  },
  {
   "cell_type": "markdown",
   "id": "3fb19b0e-3d03-424c-bd34-c27b4cbe6638",
   "metadata": {},
   "source": [
    "### 3-3 漸近増加率による順序付け\n",
    "\n",
    "***\n",
    "\n",
    "> __*a*__. 以下の関数を増加率によって順序づけよ. すなわち, $g_1 = \\Omega(g2)$, $g_2 = \\Omega(g3)$, $\\dots$ , $g_{29} = \\Omega(g_{30})$ を満たす関数の配列 $g_1, g_2, \\dots ,g_{30}$ を求めよ. f(n)と9(n)が同じ同値類に属するための必要十分条件が $f(n) = \\Theta(g(n))$ が成立することであるとき, 得られたリストを同値類に分割せよ."
   ]
  },
  {
   "cell_type": "markdown",
   "id": "d39d6d31-0b43-47cc-bf23-bb520133011e",
   "metadata": {},
   "source": [
    "$2^{2^{n+1}}$ $>$ $2^{2^n}$ $>$ $(n+1)!$ $>$ $n!$ $>$ $e^n$ $>$ $n \\cdot 2^n$ $>$ $2^n$ $>$ $(\\frac{3}{2})^n$ $>$ $n^{\\lg \\lg n}$ $=$ $(\\lg n)^{\\lg n}$ $(\\lg n)!$ $>$ $n^3$ $n ^ 2$ $=$ $4^{\\lg n}$ $>$ $n \\ln n$ $>$ $=$ $\\lg(n!)$ $>$ $n$ $=$ $2^{\\lg n}$ $>$ $(\\sqrt{2})^{\\lg n}$ $>$ $2^{\\sqrt{2 \\lg n}}$ $>$ $\\lg^2n$ $>$ $\\ln n$ $>$ $\\sqrt{\\lg n}$ $>$ $\\ln \\ln n$ $>$ $2^{\\lg^\\ast n}$ $>$ $\\lg^\\ast (\\lg n)$ $=$ $\\lg^\\ast n$ $>$ $\\lg(\\lg^\\ast n)$ $>$ $1$ $=$ $n^{1/\\lg n}$"
   ]
  },
  {
   "cell_type": "markdown",
   "id": "56002f88-4dbf-449d-9c3f-3367178aec52",
   "metadata": {},
   "source": [
    "> __*b*__. (a)の任意の関数 $g_i(n)$ に対して，$O(g_i(n))$ にも $\\Omega(g_i(n))$ にも属さない非負関数 $f(n)$ の例を与えよ."
   ]
  },
  {
   "cell_type": "markdown",
   "id": "fc77a65d-5717-468b-a4ef-52281c5573ef",
   "metadata": {},
   "source": [
    "$n^{\\sin n}$"
   ]
  },
  {
   "cell_type": "markdown",
   "id": "7532f9f1-3738-4a92-97b0-5382b6147a32",
   "metadata": {},
   "source": [
    "### 3-4 漸近記法の性質\n",
    "\n",
    "***\n",
    "\n",
    "> $ f(n) $ と $ g(n) $ を漸近的に正の関数とする. 以下の予想を肯定的あるいは否定的に解決せよ."
   ]
  },
  {
   "cell_type": "markdown",
   "id": "12a662f9-5795-4c5b-b65b-be4b35389630",
   "metadata": {},
   "source": [
    "> __*a*__. $f(n)=O(g(n))$ ならば $g(n)=O(f(n))$ である."
   ]
  },
  {
   "cell_type": "markdown",
   "id": "da58f345-c85b-4988-affa-0314908cb58f",
   "metadata": {},
   "source": [
    "間違い,  $f(n)=1$, $g(n)=n$."
   ]
  },
  {
   "cell_type": "markdown",
   "id": "f8b708f7-1846-4e0e-8304-cc9803a5d52f",
   "metadata": {},
   "source": [
    "> __*b*__. $f(n)+g(n)=\\Theta(\\min(f(n), g(n)))$ である."
   ]
  },
  {
   "cell_type": "markdown",
   "id": "08286eac-c3ef-4410-9508-bb774113497b",
   "metadata": {},
   "source": [
    "間違い, $f(n)=1$, $g(n)=n$."
   ]
  },
  {
   "cell_type": "markdown",
   "id": "7dfff2da-11ad-45a1-b93a-6c2c7246363f",
   "metadata": {},
   "source": [
    "> __*c*__. すべての十分大きな $n$ に対して $\\lg(g(n)) \\ge 1$ かつ $f(n) \\ge 1$ であるとする. このとき, $f(n)=O(g(n))$ ならば $\\lg(f(n))=O(\\lg(g(n)))$ である."
   ]
  },
  {
   "cell_type": "markdown",
   "id": "5097bcdb-ced0-4225-817e-2da1d2b97c25",
   "metadata": {},
   "source": [
    "正しい.\n",
    "\n",
    "$f(n) \\le cg(n)$\n",
    "\n",
    "$\\lg(f(n)) \\le \\lg c + \\lg g(n) = O(\\lg g(n))$"
   ]
  },
  {
   "cell_type": "markdown",
   "id": "3bf84000-22ac-41ef-b34b-13c6f1e8b21c",
   "metadata": {},
   "source": [
    "> __*d*__. $f(n)=O(g(n))$ ならば $2^{f(n)}=O(2^{g(n)})$ である."
   ]
  },
  {
   "cell_type": "markdown",
   "id": "56e45f64-ce3a-472e-a424-0a65f86c4ce0",
   "metadata": {},
   "source": [
    "間違い, $f(n)=2n$, $g(n)=n$."
   ]
  },
  {
   "cell_type": "markdown",
   "id": "228915e9-e26c-46c7-8b2f-d1000afd871e",
   "metadata": {},
   "source": [
    "> __*e*__. $f(n)=O((f(n))^2)$ である."
   ]
  },
  {
   "cell_type": "markdown",
   "id": "fa120510-b556-4fe8-b0da-7b12df35cd28",
   "metadata": {},
   "source": [
    "間違い, $f(n)=1/n$."
   ]
  },
  {
   "cell_type": "markdown",
   "id": "4aab719e-9fef-4a2d-96cf-2f060ba3a22f",
   "metadata": {},
   "source": [
    "> __*f*__. $f(n)=O(g(n))$ ならば $g(n)=\\Omega(f(n))$ である."
   ]
  },
  {
   "cell_type": "markdown",
   "id": "06d2fd87-b2da-489c-a6c9-f6158af0ec04",
   "metadata": {},
   "source": [
    "正しい.\n",
    "\n",
    "$f(n) \\le cg(n)$\n",
    "\n",
    "$ g(n) \\ge \\frac{1}{c}f(n)$"
   ]
  },
  {
   "cell_type": "markdown",
   "id": "ddb98df9-1cd6-4459-99d2-11034c5e0f7b",
   "metadata": {},
   "source": [
    "> __*g*__. $f(n)=\\Theta(f(n/2))$ である."
   ]
  },
  {
   "cell_type": "markdown",
   "id": "70e12faa-6a62-42ab-a81a-0719c9deb5e0",
   "metadata": {},
   "source": [
    "間違い, $f(n)=4^n$, $f(n/2)=2^n$."
   ]
  },
  {
   "cell_type": "markdown",
   "id": "4bed3911-c153-44af-83f6-a6830d6b33aa",
   "metadata": {},
   "source": [
    "> __*h*__. $f(n)+o(f(n))=\\Theta(f(n))$ である."
   ]
  },
  {
   "cell_type": "markdown",
   "id": "23d0c642-3192-4dee-88e6-98f9fd70de08",
   "metadata": {},
   "source": [
    "正しい.\n",
    "\n",
    "$f(n) + o(f(n)) >= f(n) = 1 \\cdot f(n)$\n",
    "\n",
    "$f(n) + o(f(n)) < f(n) + f(n) < 2 \\cdot f(n)$"
   ]
  },
  {
   "cell_type": "markdown",
   "id": "c4bcec19-98dc-48c1-9dd0-d734b5f3164b",
   "metadata": {},
   "source": [
    "### 3-5 $O$ と $\\Omega$ 変形\n",
    "\n",
    "***\n",
    "\n",
    "> 本書とは少し違う形で $\\Omega$ を定義することがある. この定義のために記号 $\\overset{\\infty}{\\Omega}$ (\"オメガ無限大”と読む)を用いる. ある正定数 $c$ が存在して, 無限個の整数 $n$ に対して $f(n) \\ge cg(n) \\ge 0$ が成立するとき, $f(n) = \\overset{\\infty}{\\Omega}(g(n))$ であると定義する. "
   ]
  },
  {
   "cell_type": "markdown",
   "id": "a59bc1d3-e537-4019-b9d8-cad07fec2b34",
   "metadata": {},
   "source": [
    "> __*a*__. 任意の漸近的に非負の関数 $f(n)$ と $g(n)$ に対して, $f(n) = O(g(n)$ と $f(n) = \\overset{\\infty}{\\Omega}(g(n))$ の少なくとも一方が成立する. しかし, $\\overset{\\infty}{\\Omega}$ の代わりに $\\Omega$ を用いると, この性質は成立しない. この事実を示せ. "
   ]
  },
  {
   "cell_type": "markdown",
   "id": "cb00ede2-60f7-466d-bde6-f0127176aed8",
   "metadata": {},
   "source": [
    "* 通常の $\\Omega$ 記法は、ある定数 $c > 0$ と $n_0$ が存在し、全ての $n \\geq n_0$ に対して $0 \\leq c \\cdot g(n) \\leq f(n)$ となる場合に、$f(n)$ が $g(n)$ の漸近的な下限であると言います。これは、$f(n)$ が $g(n)$ に対して一定の閾値 $n_0$ を超えたすべての $n$ で一定の比率以上であることを示しています。\n",
    "\n",
    "* 一方で $\\overset{\\infty}{\\Omega}$ は、$f(n) \\geq c \\cdot g(n)$ が無限に多くの $n$ に対して成立する場合に使用されますが、これには特定の開始点 $n_0$ は定められません。つまり、$f(n)$ が $g(n)$ を超えることは無限にあるが、それが連続している必要はありません。\n",
    "\n",
    "* このことから、任意の二つの非負の関数 $f(n)$ と $g(n)$ について、$f(n) = O(g(n))$ または $f(n) = \\overset{\\infty}{\\Omega}(g(n))$ の少なくとも一方が成立すると言えます。しかし、$f(n)$ が常に $g(n)$ の一定の比率以上であるとは限らないため、通常の $\\Omega$ 記法ではこの性質は保証されません。"
   ]
  },
  {
   "cell_type": "markdown",
   "id": "f5df5c54-1766-48bb-91a7-31d45a1cd8a1",
   "metadata": {},
   "source": [
    "> __*b*__. プログラムの実行時間を記述するために $\\Omega$ の代わりに $\\overset{\\infty}{\\Omega}$ を用いることの潜在的な利点と欠点を論じよ. "
   ]
  },
  {
   "cell_type": "markdown",
   "id": "e865b004-8e39-4f4d-99df-394dc909c142",
   "metadata": {},
   "source": [
    "* $\\overset{\\infty}{\\Omega}$ 記法を用いる利点は、関数の成長が不規則であるか、または特定のパターンに従うが連続していない場合に、その挙動を捉えることができる点にあります。特に、プログラムの実行時間が最悪ケースではなく、実際にはより高頻度で発生する平均的なケースや特定のインスタンスでどのように振る舞うかを表現するのに有効です。\n",
    "\n",
    "* 一方で、$\\overset{\\infty}{\\Omega}$ 記法の欠点は、最悪のケースの実行時間を一貫して提供しないため、システムの設計や分析において最悪のケースを重視する場合には適していないことです。また、無限に多くの点での挙動を示すだけであり、関数がどのように成長するかの一般的な傾向を示す情報は限定的です。"
   ]
  },
  {
   "cell_type": "markdown",
   "id": "a3c05d57-0d7d-4b36-8633-04b4667bec78",
   "metadata": {},
   "source": [
    "> $O$ 記法を別の形で定義する著者もいる. この定義のために記号 $O'$ を用いる. $f(n)=O'(g(n))$ を $|f(n)| = O(g(n))$ で定義する. "
   ]
  },
  {
   "cell_type": "markdown",
   "id": "d6eda643-a43f-4185-a497-7c9f8a1b7f9f",
   "metadata": {},
   "source": [
    "> __*c*__. $ O $ の代わりに $ O' $ を使い,  $ \\Omega $ はそのまま使うと, 定理3.1の必要条件と十分条件にどのような影響を与えるか?"
   ]
  },
  {
   "cell_type": "markdown",
   "id": "f67ecc70-942a-4203-8c78-ef4ccc00a743",
   "metadata": {},
   "source": [
    "* もし $O$ の代わりに $O'$ を使い、$\\Omega$ はそのまま使う場合、定理3.1における「if and only if」の関係は崩れます。$O'$ は $f(n) \\leq c \\cdot g(n) \\cdot \\log^k(n)$ であることを許容しますが、これには $f(n)$ が $g(n)$ を超えることがあっても良いという余地を持たせています。これは定理3.1で必要とされる $f(n)$ が $g(n)$ の明確な上限であるという条件と矛盾します。また、$\\Omega$ 記法をそのまま使う場合、$f(n)$ が $g(n)$ の漸近的な下限であることに変わりはありませんが、$O'$ と $\\Omega$ を組み合わせることによって、定理3.1の原則が維持されるかどうかは不明です。"
   ]
  },
  {
   "cell_type": "markdown",
   "id": "c85a86d1-f58c-40e0-a028-7fb697e63c00",
   "metadata": {},
   "source": [
    "> 対数因子を無視した $O$ を意味する $\\tilde{O}$ (\"ソフトオー\"と読む)を定義する著者もいる. $\\tilde{O}$ は\n",
    "\n",
    "> $\\tilde{O}(g(n)) = \\{f(n):ある正定数 $c,k,n_o$ が存在して, すべての n \\geq n_0 に対して, 0 \\leq f(n) \\leq c g(n) \\lg^k(n)  を満たす \\}$\n",
    "\n",
    "> と定義される. "
   ]
  },
  {
   "cell_type": "markdown",
   "id": "dabf024d-3b5d-4023-bde0-fede11c29789",
   "metadata": {},
   "source": [
    "> __*d*__. $\\tilde{\\Omega}(g(n))$ と $\\tilde{O}$ を同じ要領で定義せよ. 定理3.1に対応する類似の定理を証明せよ. "
   ]
  },
  {
   "cell_type": "markdown",
   "id": "c77e8a52-12cd-4899-996d-b2328a8d8317",
   "metadata": {},
   "source": [
    "* $\\tilde{\\Omega}(g(n))$ と $\\tilde{O}(g(n))$ を定義するために、対数因子を無視することを含めます。これは、$f(n)$ と $g(n)$ の比較を行う際に、対数的な差異は重要ではないとするアプローチです。\n",
    "\n",
    "$$\n",
    "\\tilde{\\Omega}(g(n)) = \\{ f(n) : \\text{存在する正の定数 } c, k, \\text{および } n_0 \\text{に対して全ての } n \\geq n_0 \\text{ において } 0 \\leq c g(n) \\log^k(n) \\leq f(n) \\}\n",
    "$$\n",
    "\n",
    "$$\n",
    "\\tilde{O}(g(n)) = \\{ f(n) : \\text{存在する正の定数 } c, k, \\text{および } n_0 \\text{に対して全ての } n \\geq n_0 \\text{ において } f(n) \\leq c g(n) \\log^k(n) \\}\n",
    "$$\n",
    "\n",
    "* 定理3.1に対応する類似の定理を証明するためには、$f(n)$ が同時に $\\tilde{O}(g(n))$ かつ $\\tilde{\\Omega}(g(n))$ である場合に限り、その関数は $\\tilde{\\Theta}(g(n))$ であるということを示す必要があります。ここで、$\\tilde{\\Theta}(g(n))$ は $f(n)$ が $g(n)$ と同じ漸近的な成長率を持ち、対数因子が存在する場合でもそれらを無視して比較することを意味します。"
   ]
  },
  {
   "cell_type": "markdown",
   "id": "133f99bc-4999-473d-9014-da79865c2d08",
   "metadata": {},
   "source": [
    "|$f(n)$|$c$|$f_c^\\ast(n)$|\n",
    "|:-:|:-:|:-:|\n",
    "|$n-1$|0|$\\Theta(n)$|\n",
    "|$\\lg n$|1|$\\Theta(\\lg^\\ast n)$|\n",
    "|$n/2$|1|$\\Theta(\\lg n)$|\n",
    "|$n/2$|2|$\\Theta(\\lg n)$|\n",
    "|$\\sqrt{n}$|2|$\\Theta(\\lg\\lg n)$|\n",
    "|$\\sqrt{n}$|1|not converge|\n",
    "|$n^{1/3}$|2|$\\Theta(\\log_3 \\lg n)$|\n",
    "|$n/\\lg n$|2|$\\omega(\\lg\\lg n) o(\\lg n)$|"
   ]
  }
 ],
 "metadata": {
  "kernelspec": {
   "display_name": "Python 3 (ipykernel)",
   "language": "python",
   "name": "python3"
  },
  "language_info": {
   "codemirror_mode": {
    "name": "ipython",
    "version": 3
   },
   "file_extension": ".py",
   "mimetype": "text/x-python",
   "name": "python",
   "nbconvert_exporter": "python",
   "pygments_lexer": "ipython3",
   "version": "3.11.5"
  }
 },
 "nbformat": 4,
 "nbformat_minor": 5
}
