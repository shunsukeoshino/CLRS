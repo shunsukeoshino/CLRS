{
 "cells": [
  {
   "cell_type": "markdown",
   "id": "f13423c3-58b4-4924-83e6-7763bd2e8560",
   "metadata": {},
   "source": [
    "## 2.3 アルゴリズムの設計"
   ]
  },
  {
   "cell_type": "markdown",
   "id": "3178559d-409e-47ca-a591-3ef7bff1b3df",
   "metadata": {},
   "source": [
    "### 2.3-1\n",
    "***\n",
    "> 図2.4を手本にして, 配列 $A =〈3,41,52,26,38,57,9,49〉$ 上のマージソートの動作を図示せよ. "
   ]
  },
  {
   "cell_type": "code",
   "execution_count": 1,
   "id": "3febc797-5292-4e62-b40b-5551988a7d21",
   "metadata": {},
   "outputs": [],
   "source": [
    "def Merge(A, p, q, r):\n",
    "    L = A[p:q+1] + [100000] # 番兵\n",
    "    R = A[q+1:r+1] + [100000] # 番兵\n",
    "    print('----------------------------------')\n",
    "    print(A[p:q+1] , A[q+1:r+1]) # マージ前\n",
    "    \n",
    "    i = 0\n",
    "    j = 0\n",
    "    for k in range(p, r+1):\n",
    "        if L[i] < R[j]:\n",
    "            A[k] = L[i]\n",
    "            i += 1\n",
    "        else:\n",
    "            A[k] = R[j]\n",
    "            j += 1\n",
    "            \n",
    "    print('↓MERGE↓')\n",
    "    print(A[p:q+1] + A[q+1:r+1]) # マージ後\n",
    "    \n",
    "\n",
    "def Merge_sort(A, p, r):\n",
    "    if p < r:\n",
    "        q = (p+r) // 2\n",
    "        Merge_sort(A, p, q)        \n",
    "        Merge_sort(A, q+1, r)\n",
    "        Merge(A, p, q, r)"
   ]
  },
  {
   "cell_type": "code",
   "execution_count": 4,
   "id": "096c5cb4-2fab-4eeb-8875-c73739c851f7",
   "metadata": {},
   "outputs": [
    {
     "name": "stdout",
     "output_type": "stream",
     "text": [
      "[3, 41, 52, 26, 38, 57, 9, 49]\n",
      "----------------------------------\n",
      "[3] [41]\n",
      "↓MERGE↓\n",
      "[3, 41]\n",
      "----------------------------------\n",
      "[52] [26]\n",
      "↓MERGE↓\n",
      "[26, 52]\n",
      "----------------------------------\n",
      "[3, 41] [26, 52]\n",
      "↓MERGE↓\n",
      "[3, 26, 41, 52]\n",
      "----------------------------------\n",
      "[38] [57]\n",
      "↓MERGE↓\n",
      "[38, 57]\n",
      "----------------------------------\n",
      "[9] [49]\n",
      "↓MERGE↓\n",
      "[9, 49]\n",
      "----------------------------------\n",
      "[38, 57] [9, 49]\n",
      "↓MERGE↓\n",
      "[9, 38, 49, 57]\n",
      "----------------------------------\n",
      "[3, 26, 41, 52] [9, 38, 49, 57]\n",
      "↓MERGE↓\n",
      "[3, 9, 26, 38, 41, 49, 52, 57]\n"
     ]
    }
   ],
   "source": [
    "A = [3, 41, 52, 26, 38, 57, 9, 49]\n",
    "print(A)\n",
    "Merge_sort(A, 0, len(A)-1)"
   ]
  },
  {
   "cell_type": "markdown",
   "id": "08d2a777-dfe1-4257-8730-04404e3676df",
   "metadata": {},
   "source": [
    "### 2.3-2\n",
    "***\n",
    "> 手続きMERGEを番兵を使わないように書き直せ. 代わりに, LかRのどちらかですべての要素がAに書き戻されたら直ちに停止し, 他方に残されている要素をAに書き戻すようにせよ. "
   ]
  },
  {
   "cell_type": "code",
   "execution_count": 7,
   "id": "f2b58a11-9da4-4f97-8d58-acee514e299f",
   "metadata": {},
   "outputs": [],
   "source": [
    "def Merge(A, p, q, r):\n",
    "    L = A[p:q+1]\n",
    "    R = A[q+1:r+1]\n",
    "    print('----------------------------------')\n",
    "    print(A[p:q+1] , A[q+1:r+1]) # マージ前\n",
    "    \n",
    "    i = 0\n",
    "    j = 0\n",
    "    for k in range(p, r+1):\n",
    "        if len(L) == i: # iはLの要素を参照するためのインデックスであるため、この条件でLの全ての要素がAに書かれたと判断できる\n",
    "            A[k:r+1] = R[j:]\n",
    "            break\n",
    "            \n",
    "        if len(R) == j: # jはRの要素を参照するためのインデックスであるため、この条件でRの全ての要素がAに書かれたと判断できる\n",
    "            A[k:r+1] = L[i:]\n",
    "            break\n",
    "            \n",
    "        if L[i] < R[j]:\n",
    "            A[k] = L[i]\n",
    "            i += 1\n",
    "        else:\n",
    "            A[k] = R[j]\n",
    "            j += 1\n",
    "            \n",
    "    print('↓MERGE↓')\n",
    "    print(A[p:q+1] + A[q+1:r+1]) # マージ後\n",
    "    \n",
    "\n",
    "def Merge_sort(A, p, r):\n",
    "    if p < r:\n",
    "        q = (p+r) // 2\n",
    "        Merge_sort(A, p, q)        \n",
    "        Merge_sort(A, q+1, r)\n",
    "        Merge(A, p, q, r)"
   ]
  },
  {
   "cell_type": "code",
   "execution_count": 9,
   "id": "16255a23-4f11-49d5-8871-3b6608001f93",
   "metadata": {},
   "outputs": [
    {
     "name": "stdout",
     "output_type": "stream",
     "text": [
      "[3, 41, 52, 26, 38, 57, 9, 49]\n",
      "----------------------------------\n",
      "[3] [41]\n",
      "↓MERGE↓\n",
      "[3, 41]\n",
      "----------------------------------\n",
      "[52] [26]\n",
      "↓MERGE↓\n",
      "[26, 52]\n",
      "----------------------------------\n",
      "[3, 41] [26, 52]\n",
      "↓MERGE↓\n",
      "[3, 26, 41, 52]\n",
      "----------------------------------\n",
      "[38] [57]\n",
      "↓MERGE↓\n",
      "[38, 57]\n",
      "----------------------------------\n",
      "[9] [49]\n",
      "↓MERGE↓\n",
      "[9, 49]\n",
      "----------------------------------\n",
      "[38, 57] [9, 49]\n",
      "↓MERGE↓\n",
      "[9, 38, 49, 57]\n",
      "----------------------------------\n",
      "[3, 26, 41, 52] [9, 38, 49, 57]\n",
      "↓MERGE↓\n",
      "[3, 9, 26, 38, 41, 49, 52, 57]\n"
     ]
    }
   ],
   "source": [
    "A = [3, 41, 52, 26, 38, 57, 9, 49]\n",
    "print(A)\n",
    "Merge_sort(A, 0, len(A)-1)"
   ]
  },
  {
   "cell_type": "markdown",
   "id": "faf728a5-061a-4fce-b7f3-f2e0f82744dd",
   "metadata": {},
   "source": [
    "### 2.3-3\n",
    "***\n",
    "> nが2のベキ乗のとき, 漸化式\n",
    "> \n",
    "> $T(n)=\\left\\{\\begin{matrix}2 & \\text{n=2のとき}\\;  \\\\\\\\ 2T(n/2) + n & \\text{k>1に対して}\\; n = 2^k \\text{のとき}\\;\\end{matrix}\\right.$\n",
    "> \n",
    "> の解が $T(n)=n\\lg n$. であることを数学的帰納法を用いて示せ. "
   ]
  },
  {
   "cell_type": "markdown",
   "id": "0b0cbe8c-6c4d-498f-963b-90fc472b07c6",
   "metadata": {},
   "source": [
    "数学的帰納法を用いて証明するプロセスは以下のように進められます：\n",
    "\n",
    "- **ベースケース**:\n",
    "  - $k=1$ のとき、$n=2$ で、$T(2) = 2 = 2 \\log 2$ より成立します。\n",
    "\n",
    "- **帰納仮定**:\n",
    "  - $k=i$ のとき、$n=2^i$ で $T(2^i) = 2^i \\log 2^i = i 2^i$ の成立を仮定します。\n",
    "\n",
    "- **帰納ステップ**:\n",
    "  - $k=i+1$ のとき、$n=2^{i+1}$ で $T(2^{i+1}) = 2T(2^i) + 2^{i+1} = i 2^{i+1} + 2^{i+1} = (i+1) 2^{i+1} = 2^{i+1} \\log 2^{i+1}$ より成立します。\n",
    "\n",
    "したがって、数学的帰納法により示すことができました。"
   ]
  },
  {
   "cell_type": "markdown",
   "id": "248b5b1a-84d8-4d3b-acf0-850fed7df86a",
   "metadata": {},
   "source": [
    "### 2.3-4\n",
    "***\n",
    "> 挿入ソートは再帰的手続きとしても表現できる. $A[1 .. n]$ をソートするには再帰的に $A[1 .. n-1]$ をソートし, 次に $A[n]$ 叫をソート済みの配列 $A[1 .. n-1]$ に挿入すればよい. 再帰版の挿入ソートの最悪実行時間に対する漸化式を書け. "
   ]
  },
  {
   "cell_type": "code",
   "execution_count": 30,
   "id": "35e9b407-2d50-44a0-b65c-10bd3c0dd238",
   "metadata": {},
   "outputs": [],
   "source": [
    "def recursive_Insertion_sort(A, i, n): # サブリスト`A[0…i-1]`はソート済みとして、A[i]をソート済みのリストに挿入する\n",
    "    key = A[i]\n",
    "    j = i\n",
    "\n",
    "    while j > 0 and A[j-1] > key:\n",
    "        A[j] = A[j-1]\n",
    "        j -= 1\n",
    "    A[j] = key\n",
    "\n",
    "    if i < n:\n",
    "        recursive_Insertion_sort(A, i+1, n)"
   ]
  },
  {
   "cell_type": "code",
   "execution_count": 31,
   "id": "615d5f77-f664-41d7-88ee-669e73abf74a",
   "metadata": {},
   "outputs": [
    {
     "name": "stdout",
     "output_type": "stream",
     "text": [
      "[3, 9, 26, 38, 41, 49, 52, 57]\n"
     ]
    }
   ],
   "source": [
    "A = [3, 41, 52, 26, 38, 57, 9, 49]\n",
    "recursive_Insertion_sort(A, 0, len(A)-1)\n",
    "print(A)"
   ]
  },
  {
   "cell_type": "markdown",
   "id": "601646bd-d774-4682-9160-0a7381f2fab4",
   "metadata": {},
   "source": [
    "* 再帰的な挿入ソートでは、特定の位置`i`から要素を正しい位置に挿入する処理が含まれています。最悪の場合（リストが降順にソートされている場合）の実行時間を考えると、各ステップで`i`番目の要素をその正しい位置まで移動させるのに最大`i-1`回の比較が必要になります。\n",
    "\n",
    "* このアルゴリズムの実行時間の漸化式を考えると、次のように表現されます：\n",
    "$$ T(n) = T(n-1) + n - 1 $$\n",
    "ここで、$T(n-1)$は$n-1$要素のリストをソートするのに必要な時間、そして$n-1$は$n$番目の要素を適切な位置に挿入するために必要な最大の比較回数です。\n",
    "\n",
    "* この漸化式の解を求めると、\n",
    "$$ T(n) = 1 + 2 + \\dots + (n - 1) $$\n",
    "となり、これは等差数列の和であり、その和は\n",
    "$$ T(n) = \\frac{(n-1) \\cdot n}{2} $$\n",
    "と計算できます。これは$O(n^2)$の計算量を示しています。"
   ]
  },
  {
   "cell_type": "markdown",
   "id": "8d947caf-59e7-4959-a8f3-659bf338336f",
   "metadata": {},
   "source": [
    "### 2.3-5\n",
    "***\n",
    "> 探索問題(練習問題2.1-3を参照せよ)に戻って, 列 $A$ がソートされていれば, この列の中央値を $v$ と比較することで列の半分を以降の探索範囲から除去できる. 2分探索(binarysearch)はこの手続きを繰り返し, 繰返しのたびに残された列の長さを半減する. 2分探索(繰返し型と再帰型のどちらでもよい)の擬似コードを書け. 2分探索の最悪実行時間が $\\Theta(\\lg n)$ であることを示せ. "
   ]
  },
  {
   "cell_type": "code",
   "execution_count": 36,
   "id": "a6f836e8-16aa-4901-8673-28a6a806834a",
   "metadata": {},
   "outputs": [],
   "source": [
    "def Binary_search(A, v): # 繰返し型の2分探索\n",
    "    left_index = 0\n",
    "    right_index = len(A)-1\n",
    "    mid_index = (right_index + left_index)//2\n",
    "    \n",
    "    while left_index < right_index:\n",
    "        if v == A[mid_index]:\n",
    "            return mid_index\n",
    "            break\n",
    "            \n",
    "        elif v < A[mid_index]:\n",
    "            right_index = mid_index\n",
    "            mid_index = (right_index + left_index)//2\n",
    "            \n",
    "        elif v > A[mid_index]:\n",
    "            left_index = mid_index + 1\n",
    "            mid_index = (right_index + left_index)//2\n",
    "        \n",
    "    else:\n",
    "        return 'NIL'"
   ]
  },
  {
   "cell_type": "code",
   "execution_count": 37,
   "id": "164c556c-ed0b-4f8e-9cbf-5163b559e570",
   "metadata": {},
   "outputs": [
    {
     "data": {
      "text/plain": [
       "4"
      ]
     },
     "execution_count": 37,
     "metadata": {},
     "output_type": "execute_result"
    }
   ],
   "source": [
    "Binary_search(A, 41)"
   ]
  },
  {
   "cell_type": "markdown",
   "id": "1fc6fab4-b6ae-486c-b870-0722547d8832",
   "metadata": {},
   "source": [
    "* 2分探索を1回実行すると、配列は半分のサイズになります。したがって、n個の要素を持つ配列での探索にかかる時間は、半分のサイズの配列での探索時間に1回の比較時間（これは定数時間であると見なせます）を加えたものに等しくなります。これを数式で表すと、以下のような漸化式が成り立ちます。\n",
    "\n",
    "$$\n",
    "T(n) = T\\left(\\frac{n}{2}\\right) + c\n",
    "$$\n",
    "\n",
    "* ここで、$c$ は定数で、中間値と探索値を比較するのにかかる時間です。\n",
    "\n",
    "* 上記の計算から、2分探索の実行時間 $T(n)$ は $\\lg n$ に比例します。よって、2分探索の最悪実行時間は $\\Theta(\\lg n)$ となることが示されました。"
   ]
  }
 ],
 "metadata": {
  "kernelspec": {
   "display_name": "Python 3 (ipykernel)",
   "language": "python",
   "name": "python3"
  },
  "language_info": {
   "codemirror_mode": {
    "name": "ipython",
    "version": 3
   },
   "file_extension": ".py",
   "mimetype": "text/x-python",
   "name": "python",
   "nbconvert_exporter": "python",
   "pygments_lexer": "ipython3",
   "version": "3.11.5"
  }
 },
 "nbformat": 4,
 "nbformat_minor": 5
}
