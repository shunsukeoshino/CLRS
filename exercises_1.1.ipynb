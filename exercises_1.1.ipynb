{
 "cells": [
  {
   "cell_type": "markdown",
   "id": "83307034-d87b-4489-9868-6fd68ff01607",
   "metadata": {},
   "source": [
    "## 1.1 アルゴリズム(練習問題)"
   ]
  },
  {
   "cell_type": "markdown",
   "id": "99c1f473-dbdd-4400-999f-992fd80ae482",
   "metadata": {},
   "source": [
    "### 1.1-1\n",
    "***\n",
    "> ソートを必要とする実社会での応用あるいは凸包の計算を必要とする実社会での応用を説明せよ."
   ]
  },
  {
   "cell_type": "markdown",
   "id": "46921e1f-f885-45ae-9cf1-fd62a21b5f63",
   "metadata": {},
   "source": [
    "* 特定の組織内において名前順や年齢順に並び替えてメンバーを管理するシステム（ソート）\n",
    "* パターン認識・画像処理・統計学・地理情報システム（凸包の計算）"
   ]
  },
  {
   "cell_type": "markdown",
   "id": "55b03ffa-8d8c-45c9-ad0d-90f9ccfcd8d8",
   "metadata": {},
   "source": [
    "### 1.1-2\n",
    "***\n",
    "\n",
    "> 実社会の枠組の中で用いられる計算速度以外の効率の尺度をあげよ."
   ]
  },
  {
   "cell_type": "markdown",
   "id": "8acc95a2-c818-4d2e-b1d0-d5346e338b62",
   "metadata": {},
   "source": [
    "* メモリ使用量\n",
    "* データ転送量"
   ]
  },
  {
   "cell_type": "markdown",
   "id": "742389c1-9a8f-46fa-a0bd-86fbc29540c7",
   "metadata": {},
   "source": [
    "### 1.1-3\n",
    "***\n",
    "\n",
    "> 以前に見たことがあるデータ構造についてその長所と欠点を述べよ."
   ]
  },
  {
   "cell_type": "markdown",
   "id": "0e258a1a-80ec-4db3-9688-dbcdee5040da",
   "metadata": {},
   "source": [
    "* 配列\n",
    "    *  長所：任意の要素への参照が可能であるため、検索が速い\n",
    "    *  短所：要素を挿入したり削除する処理は、当該位置以降の要素を1つずつすらす必要があるため遅い\n",
    "* 連結リスト\n",
    "    *  長所：順にポインタで要素をたどる必要があるため、検索が遅い\n",
    "    *  短所：要素を挿入したり削除する処理は、前後の関与しているポインタだけを変更すれば良いため速い"
   ]
  },
  {
   "cell_type": "markdown",
   "id": "f9446f20-a1a9-4dd0-af74-6573302e422f",
   "metadata": {},
   "source": [
    "### 1.1-4\n",
    "***\n",
    "\n",
    "> 上で述べた最短路問題と巡回セールスマン問題の類似点を説明せよ. また, 相違点は何か."
   ]
  },
  {
   "cell_type": "markdown",
   "id": "9db6cbb8-4249-47e0-8a1c-fcb6c7d6602d",
   "metadata": {},
   "source": [
    "* 類似点\n",
    "    * どちらも最短距離の経路の検出という問題設定である点。また近似アルゴリズムが考えられており、それが有効である点。\n",
    "* 相違点\n",
    "    * 巡回セールスマン問題は全てのノードを通る必要があるが、最短路問題はスタートとゴールのみが決められていて、他のノードは必ずしも通る必要がないという点。"
   ]
  },
  {
   "cell_type": "markdown",
   "id": "1398ff9e-43e0-4a6d-ad7c-512c4b99bc0e",
   "metadata": {},
   "source": [
    "### 1.1-5\n",
    "***\n",
    "\n",
    "> 最適解しか意味を持たない実社会の問題を示せ. また,「近似解」でも十分に意味を持つ問題を示せ."
   ]
  },
  {
   "cell_type": "markdown",
   "id": "1ed557cf-29f3-4fbc-a2c3-248811a7e7a7",
   "metadata": {},
   "source": [
    "* 電子商取引の暗号化複合化（最適解しか意味を持たない実社会の問題）\n",
    "* 平方根や円周率の値（近似解でも十分意味を持つ問題）"
   ]
  }
 ],
 "metadata": {
  "kernelspec": {
   "display_name": "Python 3 (ipykernel)",
   "language": "python",
   "name": "python3"
  },
  "language_info": {
   "codemirror_mode": {
    "name": "ipython",
    "version": 3
   },
   "file_extension": ".py",
   "mimetype": "text/x-python",
   "name": "python",
   "nbconvert_exporter": "python",
   "pygments_lexer": "ipython3",
   "version": "3.11.3"
  }
 },
 "nbformat": 4,
 "nbformat_minor": 5
}
