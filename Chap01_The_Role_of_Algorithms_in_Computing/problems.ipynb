{
 "cells": [
  {
   "cell_type": "markdown",
   "id": "4f017d89-018f-489a-85dc-c8b54bd6b77e",
   "metadata": {},
   "source": [
    "## 章末問題"
   ]
  },
  {
   "cell_type": "markdown",
   "id": "7051f62d-b760-420a-8b32-23c83e9b94a9",
   "metadata": {},
   "source": [
    "### 1-1 実行時間の比較\n",
    "\n",
    "> 以下の表の各関数 $f(n)$ と時間 $t$ に対して, アルゴリズムが問題を解くのに $f(n)$ マイクロ秒かかるとき, $t$ 時間で解くことができる最大の問題サイズ $n$ を求めよ."
   ]
  },
  {
   "cell_type": "markdown",
   "id": "5e87b902-afc6-463e-b8e5-619cfbf41a4b",
   "metadata": {},
   "source": [
    "$ A = \\langle3, 58\\rangle$"
   ]
  },
  {
   "cell_type": "markdown",
   "id": "f9ab5d45-a1f0-4ece-8d5f-487c60158cf4",
   "metadata": {},
   "source": [
    "$ A = [3, 58]$"
   ]
  },
  {
   "cell_type": "code",
   "execution_count": null,
   "id": "b49cf23f-33f3-47ec-86a1-93e70acfbdad",
   "metadata": {},
   "outputs": [],
   "source": []
  }
 ],
 "metadata": {
  "kernelspec": {
   "display_name": "Python 3 (ipykernel)",
   "language": "python",
   "name": "python3"
  },
  "language_info": {
   "codemirror_mode": {
    "name": "ipython",
    "version": 3
   },
   "file_extension": ".py",
   "mimetype": "text/x-python",
   "name": "python",
   "nbconvert_exporter": "python",
   "pygments_lexer": "ipython3",
   "version": "3.11.3"
  }
 },
 "nbformat": 4,
 "nbformat_minor": 5
}
