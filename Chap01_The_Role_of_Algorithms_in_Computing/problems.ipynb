{
 "cells": [
  {
   "cell_type": "markdown",
   "id": "4f017d89-018f-489a-85dc-c8b54bd6b77e",
   "metadata": {},
   "source": [
    "## 章末問題"
   ]
  },
  {
   "cell_type": "markdown",
   "id": "7051f62d-b760-420a-8b32-23c83e9b94a9",
   "metadata": {},
   "source": [
    "### 1-1 実行時間の比較\n",
    "***\n",
    "\n",
    "> 以下の表の各関数 $f(n)$ と時間 $t$ に対して, アルゴリズムが問題を解くのに $f(n)$ マイクロ秒かかるとき, $t$ 時間で解くことができる最大の問題サイズ $n$ を求めよ."
   ]
  },
  {
   "cell_type": "markdown",
   "id": "763aa6fd-d8c6-45a7-94c0-0179043e5f6b",
   "metadata": {},
   "source": [
    "|            |  1 second  |  1 minute  |   1 hour   |   1 day    |  1 month   |   1 year   | 1 century  |\n",
    "|:----------:|:----------:|:----------:|:----------:|:----------:|:----------:|:----------:|:----------:|\n",
    "|  $lgn$   |$2^{10^6}$|$2^{6 \\times 10^{6}}$|$2^{3.6 \\times 10^{9}}$|$2^{8.64 \\times 10^{10}}$|$2^{2.59 \\times 10^{12}}$|$2^{3.15 \\times 10^{13}}$|$2^{3.15 \\times 10^{15}}$|\n",
    "|$\\sqrt{n}$|$10^{12}$ |$3.6 \\times 10 ^{15}$|$1.3 \\times 10^{19}$|$7.46 \\times 10^{21}$|$6.72 \\times 10^{24}$|$9.95 \\times 10^{26}$|$9.95 \\times 10^{30}$|\n",
    "|   $n$    |$10^6$|$6 \\times 10 ^{7}$|$3.6 \\times 10 ^{9}$|$8.64 \\times 10 ^{10}$|$2.59 \\times 10 ^{12}$|$3.15 \\times 10 ^{13}$|$3.15 \\times 10 ^{15}$|\n",
    "|  $nlgn$  |$6.24 \\times 10 ^{4}$|$2.8 \\times 10 ^{6}$|$1.33 \\times 10 ^{8}$|$2.76 \\times 10 ^{9}$|$7.19 \\times 10 ^{10}$|$7.98 \\times 10 ^{11}$|$6.86 \\times 10 ^{13}$|\n",
    "|  $n^2$   |$1000$|$7745$|$60000$|$293938$|$1609968$|$5615692$|$56156922$|\n",
    "|  $n^3$   |$100$|$391$|$1532$|$4420$|$13736$|$31593$|$146645$|\n",
    "|  $2^n$   |$19$|$25$|$31$|$36$|$41$|$44$|$51$|\n",
    "|   $n!$   |$9$|$11$|$12$|$13$|$15$|$16$|$17$|"
   ]
  },
  {
   "cell_type": "code",
   "execution_count": 1,
   "id": "4a4b65dd-91d2-4ffc-a8f1-4d277eb60e06",
   "metadata": {},
   "outputs": [
    {
     "name": "stdout",
     "output_type": "stream",
     "text": [
      "2^(1.00e+06) 2^(6.00e+07) 2^(3.60e+09) 2^(8.64e+10) 2^(2.59e+12) 2^(3.15e+13) 2^(3.15e+15)\n",
      "1.00e+12 | 3.60e+15 | 1.30e+19 | 7.46e+21 | 6.72e+24 | 9.95e+26 | 9.95e+30\n",
      "1.00e+06 | 6.00e+07 | 3.60e+09 | 8.64e+10 | 2.59e+12 | 3.15e+13 | 3.15e+15\n",
      "6.27e+04 | 2.80e+06 | 1.33e+08 | 2.76e+09 | 7.19e+10 | 7.98e+11 | 6.86e+13\n",
      "1000 | 7745 | 60000 | 293938 | 1609968 | 5615692 | 56156922\n",
      "100 | 391 | 1532 | 4420 | 13736 | 31593 | 146645\n",
      "19 | 25 | 31 | 36 | 41 | 44 | 51\n",
      "9 | 11 | 12 | 13 | 15 | 16 | 17\n"
     ]
    }
   ],
   "source": [
    "import math\n",
    "\n",
    "def log2(n):\n",
    "    return math.log(n) / math.log(2)\n",
    "\n",
    "complexities = [lambda n: math.sqrt(n),\n",
    "                lambda n: n,\n",
    "                lambda n: n * log2(n),\n",
    "                lambda n: n ** 2,\n",
    "                lambda n: n ** 3,\n",
    "                lambda n: 2 ** n,\n",
    "                lambda n: math.factorial(n)]\n",
    "\n",
    "max_bound = [1e40, 1e20, 1e20, 1e10, 1e10, 100, 100]\n",
    "\n",
    "times = [1000 * 1000,\n",
    "         1000 * 1000 * 60,\n",
    "         1000 * 1000 * 60 * 60,\n",
    "         1000 * 1000 * 60 * 60 * 24,\n",
    "         1000 * 1000 * 60 * 60 * 24 * 30,\n",
    "         1000 * 1000 * 60 * 60 * 24 * 365,\n",
    "         1000 * 1000 * 60 * 60 * 24 * 365 * 100]\n",
    "\n",
    "print(' '.join(map(lambda v: '2^(' + '{:.2e}'.format(v) + ')', times)))\n",
    "\n",
    "for k in range(len(complexities)):\n",
    "    c = complexities[k]\n",
    "    vals = []\n",
    "    for t in times:\n",
    "        l, r = 0, int(max_bound[k])\n",
    "        max_n = 0\n",
    "        while l <= r:\n",
    "            mid = (l + r) // 2\n",
    "            val = c(mid)\n",
    "            if val == float('inf') or val > t:\n",
    "                r = mid - 1\n",
    "            else:\n",
    "                l = mid + 1\n",
    "                max_n = max(max_n, mid)\n",
    "        vals.append(max_n)\n",
    "    if k < 3:\n",
    "        print(' | '.join(map(lambda v: '{:.2e}'.format(v), vals)))\n",
    "    else:\n",
    "        print(' | '.join(map(lambda v: str(int(math.floor(v))), vals)))\n"
   ]
  }
 ],
 "metadata": {
  "kernelspec": {
   "display_name": "Python 3 (ipykernel)",
   "language": "python",
   "name": "python3"
  },
  "language_info": {
   "codemirror_mode": {
    "name": "ipython",
    "version": 3
   },
   "file_extension": ".py",
   "mimetype": "text/x-python",
   "name": "python",
   "nbconvert_exporter": "python",
   "pygments_lexer": "ipython3",
   "version": "3.11.5"
  }
 },
 "nbformat": 4,
 "nbformat_minor": 5
}
