{
 "cells": [
  {
   "cell_type": "markdown",
   "id": "07a7e109-9864-4377-9981-f0024fc26ef8",
   "metadata": {},
   "source": [
    "## 1.2 科学技術としてのアルゴリズム(練習問題)"
   ]
  },
  {
   "cell_type": "markdown",
   "id": "ad8f5e73-5544-4e6f-b24e-81d1ad0c60e4",
   "metadata": {},
   "source": []
  },
  {
   "cell_type": "markdown",
   "id": "aa9b7da7-4e36-4a25-9b2b-8ff1adb30a80",
   "metadata": {},
   "source": []
  },
  {
   "cell_type": "markdown",
   "id": "6e3f73bb-fc0e-4e4e-b7a7-fa7417c68797",
   "metadata": {},
   "source": []
  },
  {
   "cell_type": "markdown",
   "id": "04cb14f3-e27b-4f98-9621-b2b1688c69a8",
   "metadata": {},
   "source": []
  },
  {
   "cell_type": "markdown",
   "id": "64b82911-6b59-45e1-975b-2a8f6d6ee550",
   "metadata": {},
   "source": []
  },
  {
   "cell_type": "markdown",
   "id": "4e90c122-d468-4af7-ba00-4c8e159a33c9",
   "metadata": {},
   "source": []
  },
  {
   "cell_type": "markdown",
   "id": "0cd8fab6-2e5c-4f23-b51e-e97a47c81241",
   "metadata": {},
   "source": []
  }
 ],
 "metadata": {
  "kernelspec": {
   "display_name": "Python 3 (ipykernel)",
   "language": "python",
   "name": "python3"
  },
  "language_info": {
   "codemirror_mode": {
    "name": "ipython",
    "version": 3
   },
   "file_extension": ".py",
   "mimetype": "text/x-python",
   "name": "python",
   "nbconvert_exporter": "python",
   "pygments_lexer": "ipython3",
   "version": "3.11.3"
  }
 },
 "nbformat": 4,
 "nbformat_minor": 5
}
