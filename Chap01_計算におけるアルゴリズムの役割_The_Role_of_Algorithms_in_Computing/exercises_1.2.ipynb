{
 "cells": [
  {
   "cell_type": "markdown",
   "id": "07a7e109-9864-4377-9981-f0024fc26ef8",
   "metadata": {},
   "source": [
    "## 1.2 科学技術としてのアルゴリズム(練習問題)"
   ]
  },
  {
   "cell_type": "markdown",
   "id": "ad8f5e73-5544-4e6f-b24e-81d1ad0c60e4",
   "metadata": {},
   "source": [
    "### 1.2-1\n",
    "***\n",
    "> アプリケーション層でアルゴリズムが必要になる応用の例を挙げ, 必要とされるアルゴリズムの機能を議論せよ."
   ]
  },
  {
   "cell_type": "markdown",
   "id": "aa9b7da7-4e36-4a25-9b2b-8ff1adb30a80",
   "metadata": {},
   "source": [
    "* 地図アプリケーションにおける経路探索\n",
    "<br>ユーザーは出発地と目的地を指定し、アプリケーションは最短の経路や最速の経路を提供する。この機能を実現するためには、Dijkstraなどのグラフ探索アルゴリズムが必要とされる。"
   ]
  },
  {
   "cell_type": "markdown",
   "id": "e38b7161-3448-4d97-9a96-98c40e1c2f84",
   "metadata": {},
   "source": [
    "### 1.2-2\n",
    "***\n",
    "> 同じ計算機上で挿入ソートとマージソートの実現を比較する. サイズ $n$ の入力に対して, 挿入ソートの実行には $8n^2$ ステップかかり, 一方, マージソートの実行には $64n\\lg n$ ステップかかるとする. 挿入ソートがマージソートに優る $n$ の値を調べよ."
   ]
  },
  {
   "cell_type": "code",
   "execution_count": 45,
   "id": "fd3731b4-9901-4133-9d18-af490816c207",
   "metadata": {},
   "outputs": [
    {
     "name": "stdout",
     "output_type": "stream",
     "text": [
      "2, 3, 4, 5, 6, 7, 8, 9, 10, 11, 12, 13, 14, 15, 16, 17, 18, 19, 20, 21, 22, 23, 24, 25, 26, 27, 28, 29, 30, 31, 32, 33, 34, 35, 36, 37, 38, 39, 40, 41, 42, 43, "
     ]
    }
   ],
   "source": [
    "from math import log\n",
    "n = 2\n",
    "while 8 * n**2 < 64 * n * log(n, 2):\n",
    "    print(n,end=', ')\n",
    "    n += 1"
   ]
  },
  {
   "cell_type": "markdown",
   "id": "642211df-07ba-431c-bedf-024c67e09fc9",
   "metadata": {},
   "source": [
    "$8n^2 < 64nlgn$\n",
    "\n",
    "$2^n < n^8$\n",
    "\n",
    "$n \\le 43$"
   ]
  },
  {
   "cell_type": "markdown",
   "id": "55cb138e-7987-4017-a08e-1c61b301d655",
   "metadata": {},
   "source": [
    "### 1.2-3\n",
    "***\n",
    "> 同じ計算機上で, 実行時間が $100n^2$ のアルゴリズムが, 実行時間が $2^n$ のアルゴリズムより高速に実行できる最小の $n$ の値を求めよ."
   ]
  },
  {
   "cell_type": "code",
   "execution_count": 46,
   "id": "20c86e45-a122-4883-af24-5bc939b0d923",
   "metadata": {},
   "outputs": [
    {
     "name": "stdout",
     "output_type": "stream",
     "text": [
      "50, 49, 48, 47, 46, 45, 44, 43, 42, 41, 40, 39, 38, 37, 36, 35, 34, 33, 32, 31, 30, 29, 28, 27, 26, 25, 24, 23, 22, 21, 20, 19, 18, 17, 16, 15, "
     ]
    }
   ],
   "source": [
    "n = 50\n",
    "while 100 * n**2 < 2**n:\n",
    "    print(n,end=', ')\n",
    "    n -= 1"
   ]
  },
  {
   "cell_type": "markdown",
   "id": "147e1617-dd1f-4fce-81d3-00fea72a16f4",
   "metadata": {},
   "source": [
    "$100n^2 < 2^n$\n",
    "\n",
    "$n \\ge 15$"
   ]
  }
 ],
 "metadata": {
  "kernelspec": {
   "display_name": "Python 3 (ipykernel)",
   "language": "python",
   "name": "python3"
  },
  "language_info": {
   "codemirror_mode": {
    "name": "ipython",
    "version": 3
   },
   "file_extension": ".py",
   "mimetype": "text/x-python",
   "name": "python",
   "nbconvert_exporter": "python",
   "pygments_lexer": "ipython3",
   "version": "3.11.5"
  }
 },
 "nbformat": 4,
 "nbformat_minor": 5
}
