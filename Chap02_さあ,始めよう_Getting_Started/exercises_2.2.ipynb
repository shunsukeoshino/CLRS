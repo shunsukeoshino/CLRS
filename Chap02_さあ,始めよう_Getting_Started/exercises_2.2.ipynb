{
 "cells": [
  {
   "cell_type": "markdown",
   "id": "f13423c3-58b4-4924-83e6-7763bd2e8560",
   "metadata": {},
   "source": [
    "## 2.2 アルゴリズムの解析"
   ]
  },
  {
   "cell_type": "markdown",
   "id": "951a2313-60e1-4a44-95ce-9a8734a4a236",
   "metadata": {},
   "source": [
    "### 2.2-1\n",
    "***\n",
    "> 関数 $n^3/1000 - 100n^2 - 100n + 3$ を $\\Theta$ 記法を用いて表現せよ. "
   ]
  },
  {
   "cell_type": "markdown",
   "id": "7a949776-b693-427d-bf4c-1af9bc5d68ac",
   "metadata": {},
   "source": [
    "$\\Theta(n^3)$"
   ]
  },
  {
   "cell_type": "markdown",
   "id": "d01ec1d5-0a24-4a02-9054-d50c9256069f",
   "metadata": {},
   "source": [
    "### 2.2-2\n",
    "***\n",
    "> 配列 $A$ に蓄えられた $n$ 個の数を次の方法でソートすることを考えよう. まず, $A$ の中の最小要素を見つけてそれを $A[1]$ と交換する. 次に, $A$ の2番目に小さい要素を見つけてそれを $A[2]$ と交換する. これを $A$ の $n-1$ 個の要素について繰り返す. 選択ソート(selection sort)として知られるこのアルゴリズムの擬似コードを書け. このアルゴリズムではどんなループ不変式が維持されているだろうか? $n$ 個の要素すべてについて実行する必要はなく, 最初の $n-1$ 個だけでよいのはなぜか? この選択ソートの最良時と最悪時の実行時間を $\\Theta$ 記法 で表現せよ."
   ]
  },
  {
   "cell_type": "code",
   "execution_count": 42,
   "id": "2eeb84f2-33ab-44c3-8565-e2b7128c522f",
   "metadata": {},
   "outputs": [],
   "source": [
    "def Selection_sort(A):\n",
    "    for i in range(len(A)):\n",
    "        A_min_index = i\n",
    "        for j in range(i+1, len(A)):\n",
    "            if A[j] < A[A_min_index]:\n",
    "                A_min_index = j\n",
    "        A[i], A[A_min_index] = A[A_min_index], A[i]\n",
    "    print(A)"
   ]
  },
  {
   "cell_type": "code",
   "execution_count": 44,
   "id": "a922bd44-daf8-47f5-ad96-6d853cea9143",
   "metadata": {},
   "outputs": [
    {
     "name": "stdout",
     "output_type": "stream",
     "text": [
      "[26, 31, 41, 41, 58, 59]\n"
     ]
    }
   ],
   "source": [
    "A = [31, 41, 59, 26, 41, 58]\n",
    "Selection_sort(A)"
   ]
  },
  {
   "cell_type": "markdown",
   "id": "e4b2db9e-3fb3-4e93-92b5-b754f24e806b",
   "metadata": {},
   "source": [
    "* 維持されているループ不変式：各イテレーションの開始時に, 部分配列 $A[0..i]$ はソート済みであり, かつ, それらの要素はの要素よりも小さいか等しい.\n",
    "* n個の要素すべてについて実行する必要はなく, 最初のn-1個だけでよいのはなぜか：配列内の最小値が選ばれて, 先頭から順に交換する操作のため, 最後に残ったn個目の要素は自ずと配列内の最大値となるから.\n",
    "* この選択ソートの最良時と最悪時の実行時間：どちらも $\\Theta(n^2)$"
   ]
  },
  {
   "cell_type": "markdown",
   "id": "870473b2-1adc-41ec-82a5-f15f2e36ad5e",
   "metadata": {},
   "source": [
    "### 2.2-3\n",
    "***\n",
    "> 再び順次探索法(練習問題 2.1-3を参照せよ)について考えよう. 探索すべき要素が配列中の任意の要素と等確率で一致すると仮定した上で, 入力列の中で調べられる要素数の平均を求めよ. 最悪の場合はどうか? 順次探索法の平均時と最悪時の実行時間を $\\Theta$ 記法を用いて示せ. 答が正しいことを説明せよ."
   ]
  },
  {
   "cell_type": "markdown",
   "id": "64dacfb9-ae33-40bc-af51-d5ffa5223fc0",
   "metadata": {},
   "source": [
    "* 平均時: $\\Theta(n)$ (1番目, 2番目, .., n番目の要素が探索する値である場合, 1回, 2回, .., n回の比較を行い, 探索すべき値が存在しない場合, n回の比較を行う. それらn+1個の事象が等確率で起こることより, 1 + 2 + ..+ n + nをn+1で割り, 比較回数の平均が $n/2 + n/(n+1)$ となるため)\n",
    "* 最悪時: $\\Theta(n)$ (n番目の要素だった場合が最悪時であり, そのときn回の比較を行うため)"
   ]
  },
  {
   "cell_type": "markdown",
   "id": "2dce1ade-858c-4253-a950-2823fdd095a2",
   "metadata": {},
   "source": [
    "### 2.2-4\n",
    "***\n",
    "> おおよそすべてのアルゴリズムに対して適用可能な, もっと良い最良実行時間を持つようにアルゴリズムを改良する方法を述べよ."
   ]
  },
  {
   "cell_type": "markdown",
   "id": "64c2e01f-6001-4057-9002-a1cba40df324",
   "metadata": {},
   "source": [
    "* 一般的な答えは存在しないが, 以下に示すようなものだと考えられる.\n",
    "* メモ化, データ構造の最適化, アルゴリズムの並列化など"
   ]
  }
 ],
 "metadata": {
  "kernelspec": {
   "display_name": "Python 3 (ipykernel)",
   "language": "python",
   "name": "python3"
  },
  "language_info": {
   "codemirror_mode": {
    "name": "ipython",
    "version": 3
   },
   "file_extension": ".py",
   "mimetype": "text/x-python",
   "name": "python",
   "nbconvert_exporter": "python",
   "pygments_lexer": "ipython3",
   "version": "3.11.5"
  }
 },
 "nbformat": 4,
 "nbformat_minor": 5
}
