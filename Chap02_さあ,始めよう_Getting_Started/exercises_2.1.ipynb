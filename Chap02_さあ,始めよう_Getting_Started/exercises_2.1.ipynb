{
 "cells": [
  {
   "cell_type": "markdown",
   "id": "a2a7be88-12e3-4c92-832c-a4de002565c9",
   "metadata": {},
   "source": [
    "## 2.1 挿入ソート"
   ]
  },
  {
   "cell_type": "markdown",
   "id": "e2a328e1-8d8e-4b45-9afa-62be488188f8",
   "metadata": {},
   "source": [
    "### 2.1-1\n",
    "***\n",
    "> 図2.2を手本にして, 配列 $A =〈31,41,59,26,41,58〉$ 上での INSERTION-SORTの動作を説明せよ."
   ]
  },
  {
   "cell_type": "code",
   "execution_count": 1,
   "id": "b010858a-d8d0-41cf-8820-a2dac6e50915",
   "metadata": {},
   "outputs": [],
   "source": [
    "def Insertion_sort(A):\n",
    "    for j in range(1, len(A)):\n",
    "        key = A[j]\n",
    "        i = j-1\n",
    "        while i >= 0 and A[i] > key:\n",
    "            A[i+1] = A[i]\n",
    "            i = i-1\n",
    "        A[i+1] = key\n",
    "\n",
    "        # 各ループの最後に, 挿入したkeyの値と挿入後の配列Aを表示させれば良い\n",
    "        print('key =',key, A)"
   ]
  },
  {
   "cell_type": "code",
   "execution_count": 51,
   "id": "3b6c83d5-cc64-4b76-b153-a0d2ab1f7df0",
   "metadata": {},
   "outputs": [
    {
     "name": "stdout",
     "output_type": "stream",
     "text": [
      "key = 41 [31, 41, 59, 26, 41, 58]\n",
      "key = 59 [31, 41, 59, 26, 41, 58]\n",
      "key = 26 [26, 31, 41, 59, 41, 58]\n",
      "key = 41 [26, 31, 41, 41, 59, 58]\n",
      "key = 58 [26, 31, 41, 41, 58, 59]\n"
     ]
    }
   ],
   "source": [
    "A = [31, 41, 59, 26, 41, 58]\n",
    "Insertion_sort(A)"
   ]
  },
  {
   "cell_type": "markdown",
   "id": "42887fbe-3641-4702-8064-c3c180a298af",
   "metadata": {},
   "source": [
    "### 2.1-2\n",
    "***\n",
    "> INSERTION-SORT手続きは非減少順でソートする. これを書き換えて非増加順でソートするようにせよ."
   ]
  },
  {
   "cell_type": "code",
   "execution_count": 58,
   "id": "c4c01991-7e42-4e09-8283-9436d5f5d1e5",
   "metadata": {},
   "outputs": [],
   "source": [
    "def Insertion_sort(A):\n",
    "    for j in range(1, len(A)):\n",
    "        key = A[j]\n",
    "        i = j-1\n",
    "\n",
    "        # 条件式を変更して、挿入するkeyの方が大きければ前に持っていくようにすれば良い\n",
    "        while i >= 0 and A[i] < key:\n",
    "            A[i+1] = A[i]\n",
    "            i = i-1\n",
    "        A[i+1] = key"
   ]
  },
  {
   "cell_type": "code",
   "execution_count": 59,
   "id": "ac1d6b8f-ff84-40f7-91dc-38d5796ec3d4",
   "metadata": {},
   "outputs": [
    {
     "name": "stdout",
     "output_type": "stream",
     "text": [
      "[59, 58, 41, 41, 31, 26]\n"
     ]
    }
   ],
   "source": [
    "A = [31, 41, 59, 26, 41, 58]\n",
    "Insertion_sort(A)\n",
    "print(A)"
   ]
  },
  {
   "cell_type": "markdown",
   "id": "3bebbd1c-8f63-4a39-b808-42e0d55b5194",
   "metadata": {},
   "source": [
    "### 2.1-3\n",
    "***\n",
    "> 以下の**探索問題**(searching problem)を考えよう.\n",
    "<br>**入力**: 長さ $n$ の数列 $A = (a_1,a_2, . . . ,a_n〉$ とある値 $v$.\n",
    "<br>**出力**: $v=A[i]$ となる添字 $i$, または $v$ が $A$ の中に存在しないときは特別な値 $NIL$.\n",
    "<br>**順次探索**(linear search)の擬似コードを書け. 順次探索は $v$ を探しながら列を順に走査するアルゴリズムである. ループ不変式を用いて, このアルゴリズムの正当性を証明せよ.\n",
    "<br>このループ不変式が必要とされる3つの性質を満たすことを確認せよ."
   ]
  },
  {
   "cell_type": "code",
   "execution_count": 74,
   "id": "b19ab142-d0a2-4424-8d5c-f33ef95afdb9",
   "metadata": {},
   "outputs": [],
   "source": [
    "def Linear_search(A, v):\n",
    "    for i in range(len(A)):\n",
    "        if A[i] == v:\n",
    "            return i\n",
    "    return 'NIL'"
   ]
  },
  {
   "cell_type": "code",
   "execution_count": 75,
   "id": "d79ac6eb-7f4d-490a-afa0-206a5cd0957c",
   "metadata": {},
   "outputs": [
    {
     "data": {
      "text/plain": [
       "'NIL'"
      ]
     },
     "execution_count": 75,
     "metadata": {},
     "output_type": "execute_result"
    }
   ],
   "source": [
    "A = [31, 41, 59, 26, 41, 58]\n",
    "Linear_search(A, 40)"
   ]
  },
  {
   "cell_type": "markdown",
   "id": "fadac041-a017-458d-9e7e-7e909b0a2160",
   "metadata": {},
   "source": [
    "* 初期条件: $i = 0$ の時, $A[i] == v$ ならば $i$ を返し,そうでなければ $i += 1$ になるので正しい.\n",
    "* ループ内条件: $i = k$ までの成立を仮定すると, $i = k+1$ の時に $A[k+1] == v$ ならば $k+1$ を返し, そうでなければ $i += 1$ になるので正しい. \n",
    "* 終了条件: ループ終了時, $i = len(A)$ で $A[len(A)] == v$ ならば $len(A)$ を返し, そうでなければ $NIL$ を返すので正しい."
   ]
  },
  {
   "cell_type": "markdown",
   "id": "aea6a8de-6881-4b0e-b4d0-c3060f1c75a8",
   "metadata": {},
   "source": [
    "### 2.1-4\n",
    "***\n",
    "> 2つの $n$ 要素配列 $A$ と $B$ に蓄えられた2つの $n$ ビットの2進数の和を求める問題を考える. この2つの整数の和は2進数として $(n+1)$ 要素配列 $C$ に蓄える.\n",
    "<br>この問題を形式的に記述し, 2つの整数の和を求める擬似コードで記せ."
   ]
  },
  {
   "cell_type": "code",
   "execution_count": 117,
   "id": "24f81441-0269-4c65-9f7a-4bb5804b6ba3",
   "metadata": {},
   "outputs": [],
   "source": [
    "def Binary_addition(A, B):\n",
    "    n = len(A)\n",
    "    C = [0 for _ in range(n+1)]\n",
    "    carry = 0\n",
    "    for i in reversed(range(n)):\n",
    "        C[i+1] = A[i] + B[i] + carry\n",
    "        if C[i+1] > 1:\n",
    "            C[i+1] -= 2\n",
    "            carry = 1\n",
    "        else:\n",
    "            carry = 0\n",
    "    C[i] = carry\n",
    "    return C"
   ]
  },
  {
   "cell_type": "code",
   "execution_count": 122,
   "id": "6b9ee13c-8916-4626-863f-02b21915c5a5",
   "metadata": {},
   "outputs": [
    {
     "data": {
      "text/plain": [
       "[1, 0, 0, 1, 1, 0]"
      ]
     },
     "execution_count": 122,
     "metadata": {},
     "output_type": "execute_result"
    }
   ],
   "source": [
    "A = [0, 1, 1, 0, 1]\n",
    "B = [1, 1, 0, 0, 1]\n",
    "Binary_addition(A, B)"
   ]
  }
 ],
 "metadata": {
  "kernelspec": {
   "display_name": "Python 3 (ipykernel)",
   "language": "python",
   "name": "python3"
  },
  "language_info": {
   "codemirror_mode": {
    "name": "ipython",
    "version": 3
   },
   "file_extension": ".py",
   "mimetype": "text/x-python",
   "name": "python",
   "nbconvert_exporter": "python",
   "pygments_lexer": "ipython3",
   "version": "3.11.5"
  }
 },
 "nbformat": 4,
 "nbformat_minor": 5
}
