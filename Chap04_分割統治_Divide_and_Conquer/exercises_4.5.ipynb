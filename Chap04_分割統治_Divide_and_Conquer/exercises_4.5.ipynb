{
 "cells": [
  {
   "cell_type": "markdown",
   "id": "c02d63fa-b6e7-422d-970b-09eefc1fae29",
   "metadata": {},
   "source": [
    "## 4.5 漸化式を解くためのマスター法"
   ]
  },
  {
   "cell_type": "markdown",
   "id": "934e476c-4ef5-4257-ad11-fb5f25a128bf",
   "metadata": {},
   "source": [
    "### 4.5-1\n",
    "***\n",
    "> マスター法を用いて以下の漸化式に対するタイトな漸近的限界を求めよ. "
   ]
  },
  {
   "cell_type": "markdown",
   "id": "d80368df-dfc9-430c-8132-0bc6dec040fa",
   "metadata": {},
   "source": [
    "> __a__. $T(n)=2T(n/4)+1$."
   ]
  },
  {
   "cell_type": "markdown",
   "id": "21de2d32-e781-4851-bb55-f7219122513d",
   "metadata": {},
   "source": [
    "$\\Theta(n^{\\log_42})=\\Theta(\\sqrt{n})$"
   ]
  },
  {
   "cell_type": "markdown",
   "id": "e4046d7f-337f-4602-b75e-3e73d3f34902",
   "metadata": {},
   "source": [
    "> __b__. $T(n)=2T(n/4)+\\sqrt{n}$."
   ]
  },
  {
   "cell_type": "markdown",
   "id": "6c491890-ce9d-42eb-b863-4c749fcba878",
   "metadata": {},
   "source": [
    "$\\Theta(\\sqrt{n}\\lg n)$"
   ]
  },
  {
   "cell_type": "markdown",
   "id": "50d3535c-85bb-4fff-ab34-4a1e0715ce6c",
   "metadata": {},
   "source": [
    "> __c__. $T(n)=2T(n/4)+n$."
   ]
  },
  {
   "cell_type": "markdown",
   "id": "22c80ece-ef3d-4875-8f21-a3737f18f456",
   "metadata": {},
   "source": [
    "$\\Theta(n)$"
   ]
  },
  {
   "cell_type": "markdown",
   "id": "728405ba-4844-402a-b12c-221e731069d7",
   "metadata": {},
   "source": [
    "> __d__. $T(n)=2T(n/4)+n^2$"
   ]
  },
  {
   "cell_type": "markdown",
   "id": "fb195110-0ec4-4c4a-aed5-00e7dbb14fa3",
   "metadata": {},
   "source": [
    "$\\Theta(n^2)$"
   ]
  },
  {
   "cell_type": "markdown",
   "id": "c9cf4e26-b13f-42c6-82f6-ad0cae8d00e9",
   "metadata": {},
   "source": [
    "### 4.5-2\n",
    "***\n",
    "> 張儀教授はStrassenのアルゴリズムよりも漸近的に高速な行列積を計算するアルゴリズムを設計したいと考えている. 彼のアルゴリズムは分割統治法に基づいており, 各行列を $n/4\\times n/4$ 型に分割し, 分割段階と結合段階に $\\Theta(n^2)$ 時間かかる. Strassenのアルゴリズムを凌ぐために彼のアルゴリズムが生成しなければならない部分問題数を決定する必要がある. アルゴリズムがa個の部分問題を生成するとき, 実行時間 $T(n)$ を特徴づける漸化式は $T(n)=aT(n/4)+\\Theta(n^2)$ である. 張儀教授のアルゴリズムがStrassenのアルゴリズムよりも漸近的に高速であるような最大の整数 $a$ の値を求めよ. "
   ]
  },
  {
   "cell_type": "markdown",
   "id": "01270f28-026c-4c05-9436-712233c3eb26",
   "metadata": {},
   "source": [
    "$\\log_4a<\\log_27$\n",
    "\n",
    "最大の $a$ は 48."
   ]
  },
  {
   "cell_type": "markdown",
   "id": "04e1524c-91e7-4f02-a6a7-972688a7f4cd",
   "metadata": {},
   "source": [
    "### 4.5-3\n",
    "***\n",
    "> マスター法を用いて2分探索の漸化式 $T(n)=T(n/2)+\\Theta(1)$ の解が $T(n)=\\Theta(\\lg n)$ であることを示せ. (2分探索の記述は練習問題2.3-5を参照せよ. )"
   ]
  },
  {
   "cell_type": "markdown",
   "id": "98772700-cae7-4d34-9332-3c56218680c7",
   "metadata": {},
   "source": [
    "$n^{log_21}=1$\n",
    "\n",
    "$T(n)=\\lg n$"
   ]
  },
  {
   "cell_type": "markdown",
   "id": "6f2c0027-404f-4e97-a91b-6d2938eb68be",
   "metadata": {},
   "source": [
    "### 4.5-4\n",
    "***\n",
    "> 漸化式 $T(n)=4T(n/2)+n^2\\lg n$ に対してマスター法を適用できるか?可否を理由と共に答えよ. この漸化式に対する漸近的上界を与えよ. "
   ]
  },
  {
   "cell_type": "markdown",
   "id": "6406510b-eac5-4bba-8c26-9d9c2164a7e0",
   "metadata": {},
   "source": [
    "適用できない. \n",
    "\n",
    "$O(n^2\\lg^n)$."
   ]
  },
  {
   "cell_type": "markdown",
   "id": "0a0ccaa6-42cd-433c-a8e6-255d13e10860",
   "metadata": {},
   "source": [
    "### 4.5-5\n",
    "***\n",
    "> ★ある定数 $c < 1$ に対する正則性 $af(n/b) \\le cf(n)$ を考えよう. 正則性はマスター定理の場合3の一部である. マスタ一定理の場合3の条件のうち, 正則性以外をすべて満たす定数 $a \\ge 1$ , $b > 1$ と関数 $f(n)$ の例を与えよ."
   ]
  },
  {
   "cell_type": "markdown",
   "id": "1e3bb56f-b83f-405c-8c5e-357b56d8e6fb",
   "metadata": {},
   "source": [
    "$T(n)=T(n/2)+n(sin(n-\\pi/2)+2)$"
   ]
  }
 ],
 "metadata": {
  "kernelspec": {
   "display_name": "Python 3 (ipykernel)",
   "language": "python",
   "name": "python3"
  },
  "language_info": {
   "codemirror_mode": {
    "name": "ipython",
    "version": 3
   },
   "file_extension": ".py",
   "mimetype": "text/x-python",
   "name": "python",
   "nbconvert_exporter": "python",
   "pygments_lexer": "ipython3",
   "version": "3.11.5"
  }
 },
 "nbformat": 4,
 "nbformat_minor": 5
}
