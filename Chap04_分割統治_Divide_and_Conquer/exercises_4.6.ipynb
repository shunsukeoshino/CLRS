{
 "cells": [
  {
   "cell_type": "markdown",
   "id": "c02d63fa-b6e7-422d-970b-09eefc1fae29",
   "metadata": {},
   "source": [
    "## 4.6 マスタ一定理の証明"
   ]
  },
  {
   "cell_type": "markdown",
   "id": "934e476c-4ef5-4257-ad11-fb5f25a128bf",
   "metadata": {},
   "source": [
    "### 4.6-1\n",
    "***\n",
    "> ★ $b$ が任意の実数ではなく正整数である場合について, 式(4.27)の $n_j$ の簡単で正確な式を求めよ. "
   ]
  },
  {
   "cell_type": "markdown",
   "id": "d80368df-dfc9-430c-8132-0bc6dec040fa",
   "metadata": {},
   "source": [
    "$$\n",
    "n_j=\\left \\lceil \\frac{n}{b^j} \\right \\rceil\n",
    "$$"
   ]
  },
  {
   "cell_type": "markdown",
   "id": "c9cf4e26-b13f-42c6-82f6-ad0cae8d00e9",
   "metadata": {},
   "source": [
    "### 4.6-2\n",
    "***\n",
    "> ★ $k \\ge 0$ とする. $f(n)=\\Theta(n^{\\log_ba}\\lg^kn)$ ならば, マスター漸化式は解 $T(n)=\\Theta(n^{\\log_ba}\\lg^{k+1}n)$ を持つことを示せ. $b$ のベキ乗だけに解析を限定してもよい. "
   ]
  },
  {
   "cell_type": "markdown",
   "id": "a1ad1add-2200-475c-8fff-8176770ed2fa",
   "metadata": {},
   "source": [
    "$$\n",
    "\\begin{align*}\n",
    "g(n) &= \\sum_{j=0}^{\\log_b n - 1} a^j f(n/b^j) \\\\\n",
    "f(n/b^j) &= \\Theta\\left( \\left(\\frac{n}{b^j}\\right)^{\\log_b a} \\lg^k\\left(\\frac{n}{b^j}\\right)\\right)\\\\\n",
    "g(n) &= \\Theta \\left( \\sum_{j=0}^{\\log_b n - 1} a^j \\left(\\frac{n}{b^j}\\right)^{\\log_b a} \\lg^k \\left(\\frac{n}{b^j}\\right) \\right) = \\Theta(A)\\\\\n",
    "A &= \\sum_{j=0}^{\\log_b n - 1} a^j \\left(\\frac{n}{b^j}\\right)^{\\log_b a} \\lg^k \\frac{n}{b^j} = n^{\\log_b a} \\sum_{j=0}^{\\log_b n - 1} \\left( \\frac{a}{b^{\\log_b a}} \\right)^j \\lg^k \\frac{n}{b^j}\\\\\n",
    "n^{\\log_b a} B &= \\lg^k \\frac{n}{d} = (\\lg n - \\lg d)^k = \\lg^k n + o(\\lg^k n)\\\\\n",
    "B &= \\sum_{j=0}^{\\log_b n - 1} \\lg^k \\frac{n}{b^j} = \\sum_{j=0}^{\\log_b n - 1} \\left( \\lg^k n - o(\\lg^k n) \\right) = \\log_b n \\lg^k n + \\log_b n \\cdot o(\\lg^k n) = \\Theta(\\log_b n \\lg^k n)\\\\\n",
    "\\Theta(\\log_b n \\lg^k n) &= \\Theta(\\lg^{k+1} n)\\\\\n",
    "g(n) &= \\Theta(A) = \\Theta(n^{\\log_b a} B) = \\Theta\\left(n^{\\log_b a} \\lg^{k+1} n\\right)\\\\\n",
    "\\end{align*}\n",
    "$$"
   ]
  },
  {
   "cell_type": "markdown",
   "id": "04e1524c-91e7-4f02-a6a7-972688a7f4cd",
   "metadata": {},
   "source": [
    "### 4.6-3\n",
    "***\n",
    "> ★マスタ一定理の場合3を規定する条件は次の意味で冗長であることを証明せよ. すなわち, ある定数 $c < 1$に対して正則性 $af(n/b) \\le cf(n)$ が成立するならば, $f(n)=\\Omega(n^{\\log_ba+\\epsilon})$ を満たすある定数 $\\epsilon > 0$ が存在する. "
   ]
  },
  {
   "cell_type": "markdown",
   "id": "8d7a1c88-4b9f-4a15-80f1-ff7b57889a2f",
   "metadata": {},
   "source": [
    "\n",
    "$\\quad k = \\frac{a}{c} > a$ において, $f(bn) \\geq kf(n) \\quad $\n",
    "\n",
    "$\\Rightarrow f(b^i) \\geq k^i f(1)$\n",
    "\n",
    "\n",
    "$\\quad n = b^i \\text{ かつ } i = \\log_b n$ のとき, $f(n) \\geq k^{\\log_b n} f(1)$\n",
    "\n",
    "$\\frac{\\log_b n}{\\log_b k} = \\frac{n^{\\log_b k}}{n^{\\log_b a}} \\text{ で,} \\log_b k \\geq \\log_b a \\text{ より, } \\log_b k = \\log_b a + \\epsilon$\n"
   ]
  }
 ],
 "metadata": {
  "kernelspec": {
   "display_name": "Python 3 (ipykernel)",
   "language": "python",
   "name": "python3"
  },
  "language_info": {
   "codemirror_mode": {
    "name": "ipython",
    "version": 3
   },
   "file_extension": ".py",
   "mimetype": "text/x-python",
   "name": "python",
   "nbconvert_exporter": "python",
   "pygments_lexer": "ipython3",
   "version": "3.11.5"
  }
 },
 "nbformat": 4,
 "nbformat_minor": 5
}
