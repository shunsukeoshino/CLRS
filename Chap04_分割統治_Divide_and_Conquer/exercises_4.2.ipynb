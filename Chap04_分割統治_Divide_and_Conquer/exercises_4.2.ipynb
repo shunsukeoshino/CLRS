{
 "cells": [
  {
   "cell_type": "markdown",
   "id": "c02d63fa-b6e7-422d-970b-09eefc1fae29",
   "metadata": {},
   "source": [
    "## 4.2 行列積のためのStrassenのアルゴリズム"
   ]
  },
  {
   "cell_type": "markdown",
   "id": "934e476c-4ef5-4257-ad11-fb5f25a128bf",
   "metadata": {},
   "source": [
    "### 4.2-1\n",
    "***\n",
    "> 行列積\n",
    ">\n",
    "> $\\begin{pmatrix} 1 & 3 \\\\ 7 & 5 \\end{pmatrix}\\begin{pmatrix} 6 & 8 \\\\ 4 & 2 \\end{pmatrix}$\n",
    ">\n",
    "> をStrasenのアルゴリズムを用いて計算せよ. 計算過程を説明せよ. "
   ]
  },
  {
   "cell_type": "markdown",
   "id": "d80368df-dfc9-430c-8132-0bc6dec040fa",
   "metadata": {},
   "source": [
    "$S_1 = B_{12} - B_{22} = 8 - 2 = 6$\n",
    "\n",
    "$S_2 = A_{11} + A_{12} = 1 + 3 = 4$\n",
    "\n",
    "$S_3 = A_{21} + A_{22} = 7 + 5 = 12$\n",
    "\n",
    "$S_4 = B_{21} - B_{11} = 4 - 6 = -2$\n",
    "\n",
    "$S_5 = A_{11} + A_{22} = 1 + 5 = 6$\n",
    "\n",
    "$S_6 = B_{11} + B_{22} = 6 + 2 = 8$\n",
    "\n",
    "$S_7 = A_{12} - A_{22} = 3 - 5 = -2$\n",
    "\n",
    "$S_8 = B_{21} + B_{22} = 4 + 2 = 6$\n",
    "\n",
    "$S_9 = A_{11} - A_{21} = 1 - 7 = -6$\n",
    "\n",
    "$S_{10} = B_{11} + B_{12} = 6 + 8 = 14$\n",
    "\n",
    "$P_1 = A_{11} \\cdot S_1 = 1 \\times 6 = 6$\n",
    "\n",
    "$P_2 = S_{2} \\cdot B_{22} = 4 \\times 2 = 8$\n",
    "\n",
    "$P_3 = S_{3} \\cdot B_{11} = 12 \\times 6 = 72$\n",
    "\n",
    "$P_4 = A_{22} \\cdot S_4 = 5 \\times -2 = -10$\n",
    "\n",
    "$P_5 = S_{5} \\cdot S_6 = 6 \\times 8 = 48$\n",
    "\n",
    "$P_6 = S_{7} \\cdot S_8 = -2 \\times 6 = -12$\n",
    "\n",
    "$P_7 = S_{9} \\cdot S_{10} = -6 \\times 14 = -84$\n",
    "\n",
    "$C_{11} = P_5 + P_4 - P_2 + P_6 = 48 - 10 - 8 - 12 = 18$\n",
    "\n",
    "$C_{12} = P_1 + P_2 = 8 + 6 = 14$\n",
    "\n",
    "$C_{21} = P_3 + P_4 = 72 - 10 = 62$\n",
    "\n",
    "$C_{22} = P_5 + P_1 - P_3 - P_7 = 48 + 6 - 72 + 84 = 66$\n",
    "\n",
    "$\\begin{pmatrix} 18 & 14 \\\\ 62 & 66 \\end{pmatrix}$"
   ]
  },
  {
   "cell_type": "markdown",
   "id": "c9cf4e26-b13f-42c6-82f6-ad0cae8d00e9",
   "metadata": {},
   "source": [
    "### 4.2-2\n",
    "***\n",
    "> Strasenのアルゴリズムの擬似コードを書け."
   ]
  },
  {
   "cell_type": "code",
   "execution_count": 1,
   "id": "95aab42f-5795-43f8-ab60-9a4618d21ee4",
   "metadata": {},
   "outputs": [],
   "source": [
    "def Matrix_product_strassen_sub(a, b, r_low, r_high, c_low, c_high):\n",
    "    n = r_high - r_low\n",
    "    if n == 1:\n",
    "        return [[a[r_low][c_low] * b[r_low][c_low]]]\n",
    "    mid = n // 2\n",
    "    r_mid = (r_low + r_high) // 2\n",
    "    c_mid = (c_low + c_high) // 2\n",
    "    s = [[[0 for _ in range(mid)] for _ in range(mid)] for _ in range(10)]\n",
    "    for i in range(mid):\n",
    "        for j in range(mid):\n",
    "            s[0][i][j] = b[r_low + i][c_mid + j] - b[r_mid + i][c_mid + j]\n",
    "            s[1][i][j] = a[r_low + i][c_low + j] + a[r_low + i][c_mid + j]\n",
    "            s[2][i][j] = a[r_mid + i][c_low + j] + a[r_mid + i][c_mid + j]\n",
    "            s[3][i][j] = b[r_mid + i][c_low + j] - b[r_low + i][c_low + j]\n",
    "            s[4][i][j] = a[r_low + i][c_low + j] + a[r_mid + i][c_mid + j]\n",
    "            s[5][i][j] = b[r_low + i][c_low + j] + b[r_mid + i][c_mid + j]\n",
    "            s[6][i][j] = a[r_low + i][c_mid + j] - a[r_mid + i][c_mid + j]\n",
    "            s[7][i][j] = b[r_mid + i][c_low + j] + b[r_mid + i][c_mid + j]\n",
    "            s[8][i][j] = a[r_low + i][c_low + j] - a[r_mid + i][c_low + j]\n",
    "            s[9][i][j] = b[r_low + i][c_low + j] + b[r_low + i][c_mid + j]\n",
    "    p = [[[0 for _ in range(mid)] for _ in range(mid)] for _ in range(7)]\n",
    "    for i in range(mid):\n",
    "        for j in range(mid):\n",
    "            for k in range(mid):\n",
    "                p[0][i][j] += a[r_low + i][c_low + k] * s[0][k][j]\n",
    "                p[1][i][j] += s[1][i][k] * b[r_mid + k][c_mid + j]\n",
    "                p[2][i][j] += s[2][i][k] * b[r_low + k][c_low + j]\n",
    "                p[3][i][j] += a[r_mid + i][c_mid + k] * s[3][k][j]\n",
    "                p[4][i][j] += s[4][i][k] * s[5][k][j]\n",
    "                p[5][i][j] += s[6][i][k] * s[7][k][j]\n",
    "                p[6][i][j] += s[8][i][k] * s[9][k][j]\n",
    "    c = [[0 for _ in range(n)] for _ in range(n)]\n",
    "    for i in range(mid):\n",
    "        for j in range(mid):\n",
    "            c[r_low + i][c_low + j] = p[4][i][j] + p[3][i][j] - p[1][i][j] + p[5][i][j]\n",
    "            c[r_low + i][c_mid + j] = p[0][i][j] + p[1][i][j]\n",
    "            c[r_mid + i][c_low + j] = p[2][i][j] + p[3][i][j]\n",
    "            c[r_mid + i][c_mid + j] = p[4][i][j] + p[0][i][j] - p[2][i][j] - p[6][i][j]\n",
    "    return c\n",
    "\n",
    "\n",
    "def Matrix_product_strassen(a, b):\n",
    "    n = len(a)\n",
    "    return matrix_product_strassen_sub(a, b, 0, n, 0, n)"
   ]
  },
  {
   "cell_type": "markdown",
   "id": "04e1524c-91e7-4f02-a6a7-972688a7f4cd",
   "metadata": {},
   "source": [
    "### 4.2-3\n",
    "***\n",
    "> $n$ が $2$ のベキではないときにも正しく働くように $n \\times n$ 型行列の積を計算するStrasenのアルゴリズムを変更せよ. 変更を加えたアルゴリズムが $\\Theta(n^{\\lg 7})$ 時間で実行できることを示せ. "
   ]
  },
  {
   "cell_type": "markdown",
   "id": "afc9d82b-caf7-453b-89aa-6dc52552611f",
   "metadata": {},
   "source": [
    "入力行列を2のべき乗にパディングしてから指定されたアルゴリズムを実行することができます。次に大きな2のべき乗（これを \\( m \\) と呼びます）へのパディングは、2の各べき乗が互いに2の因子で異なるため、\\( n \\) の値を最大で2倍にするだけです。したがって、この実行時間は\n",
    "\n",
    "\n",
    "$m^{\\log 7} \\leq (2n)^{\\log 7} = 7n^{\\log 7} = O(n^{\\log 7})$\n",
    "\n",
    "となり、そして\n",
    "\n",
    "$m^{\\log 7} \\geq n^{\\log 7} \\in \\Omega(n^{\\log 7})$\n",
    "\n",
    "を組み合わせると、実行時間は $\\Theta(n^{\\log 7})$ となります。"
   ]
  },
  {
   "cell_type": "markdown",
   "id": "6f2c0027-404f-4e97-a91b-6d2938eb68be",
   "metadata": {},
   "source": [
    "### 4.2-4\n",
    "***\n",
    ">  $ 3 \\times3 $ 型行列の乗算が $ k $ 回の乗算(乗算の可換性は仮定しない)によって実現できることから,  $ n \\times n $ 型行列の乗算が $ \\Theta(n^{\\lg7}) $ 時間で計算できることが帰結できる最大の $ k $ を求めよ. このアルゴリズムの実行時間を求めよ."
   ]
  },
  {
   "cell_type": "markdown",
   "id": "ed775beb-0c8f-42d7-84de-4ef86dfa952c",
   "metadata": {},
   "source": [
    "$T(n) = kT(n/3) + O(n^2)$\n",
    "\n",
    "実行時間: $\\Theta(n^{\\log_3 7})$\n",
    "\n",
    "$k \\le 3^{\\lg 7} \\approx 21.84986222490514$"
   ]
  },
  {
   "cell_type": "markdown",
   "id": "0a0ccaa6-42cd-433c-a8e6-255d13e10860",
   "metadata": {},
   "source": [
    "### 4.2-5\n",
    "***\n",
    "> V.Pan(パン)は $68 \\times 68$ 型行列を $132,464$ 回の乗算を用いて行う方法, $70 \\times 70$ 型行列を $143,640$ 回の乗算を用いて行う方法, $72 \\times 72$ 型行列を $15,424$ 回の乗算を用いて行う方法を発見した. それぞれを分割統治行列積アルゴリズムの中で用いるとき, どの方法が最良の漸近的実行時間を実現するか. 最良のものをStrasenのアルゴリズムと比較せよ. "
   ]
  },
  {
   "cell_type": "markdown",
   "id": "afad28de-f564-47e8-90ae-50db68db6353",
   "metadata": {},
   "source": [
    "$T_1 = \\Theta(n^{\\log_{68}132464}) = \\Theta(n^{2.7951284873613815})$\n",
    "\n",
    "$T_2 = \\Theta(n^{\\log_{70}143640}) = \\Theta(n^{2.795122689748337})$\n",
    "\n",
    "$T_3 = \\Theta(n^{\\log_{72}155424}) = \\Theta(n^{2.795147391093449})$\n",
    "\n",
    "$T_2 < T_1 < T_3 < \\Theta(n^{\\lg 7})$"
   ]
  },
  {
   "cell_type": "markdown",
   "id": "72b05661-b304-451c-aac2-700ee7b16e05",
   "metadata": {},
   "source": [
    "### 4.2-6\n",
    "***\n",
    "> Strasenのアルゴリズムをサプルーチンに用いて $kn \\times n$ 型行列と $n \\times kn$ 型行列の積を計算するアルゴリズムの実行時間を解析せよ. 入力行列の順序を逆にするとき, 同じ質問に\n",
    "答えよ."
   ]
  },
  {
   "cell_type": "markdown",
   "id": "ef8e7727-69bd-4919-b076-a09e7eaea32c",
   "metadata": {},
   "source": [
    "$\\Theta(k^2n^{\\lg 7})$\n",
    "\n",
    "逆順: $\\Theta(kn^{\\lg 7})$"
   ]
  },
  {
   "cell_type": "markdown",
   "id": "ad279e85-dcd7-457f-b3a0-0a9457219b42",
   "metadata": {},
   "source": [
    "### 4.2-7\n",
    "***\n",
    "> 3回の実数乗算を用いて複素数 $a + bi$ と $c + di$ の積が計算できることを示せ. アルゴリズムは入力として $a$, $b$, $c$, $d$ を取り, 実数部 $ac - bd$ と虚数部 $ad + bc$ を別々に出力しなければならない. "
   ]
  },
  {
   "cell_type": "markdown",
   "id": "fe4a8ce7-f284-4d94-abc4-4b7b2a754168",
   "metadata": {},
   "source": [
    "$P_1 = a \\cdot (c - d)$\n",
    "\n",
    "$P_2 = b \\cdot (c + d)$\n",
    "\n",
    "$P_3 = d \\cdot (a - b)$\n",
    "\n",
    "実数部: $P_1 + P_3$\n",
    "\n",
    "虚数部: $P_2 + P_3$"
   ]
  }
 ],
 "metadata": {
  "kernelspec": {
   "display_name": "Python 3 (ipykernel)",
   "language": "python",
   "name": "python3"
  },
  "language_info": {
   "codemirror_mode": {
    "name": "ipython",
    "version": 3
   },
   "file_extension": ".py",
   "mimetype": "text/x-python",
   "name": "python",
   "nbconvert_exporter": "python",
   "pygments_lexer": "ipython3",
   "version": "3.11.5"
  }
 },
 "nbformat": 4,
 "nbformat_minor": 5
}
