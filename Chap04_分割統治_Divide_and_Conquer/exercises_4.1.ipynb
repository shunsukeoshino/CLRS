{
 "cells": [
  {
   "cell_type": "markdown",
   "id": "c02d63fa-b6e7-422d-970b-09eefc1fae29",
   "metadata": {},
   "source": [
    "## 4.1 最大部分配列問題"
   ]
  },
  {
   "cell_type": "markdown",
   "id": "934e476c-4ef5-4257-ad11-fb5f25a128bf",
   "metadata": {},
   "source": [
    "### 4.1-1\n",
    "***\n",
    "> $A$ のすべての要素が負のときFIND-MAXIMUM-SUBARRAYは何を返すか?"
   ]
  },
  {
   "cell_type": "code",
   "execution_count": 91,
   "id": "f510ed5c-de16-4828-8034-08f63787042e",
   "metadata": {},
   "outputs": [],
   "source": [
    "def Find_max_crossing_subarray(A, low, mid, high):\n",
    "    left_sum = -10000\n",
    "    sum = 0\n",
    "\n",
    "    for i in range(mid, low-1, -1):\n",
    "        sum += A[i]\n",
    "        if sum > left_sum:\n",
    "            left_sum = sum\n",
    "            max_left = i\n",
    "\n",
    "    \n",
    "    right_sum = -10000\n",
    "    sum = 0\n",
    "\n",
    "    for j in range(mid+1, high+1):\n",
    "        sum += A[j]\n",
    "        if sum > right_sum:\n",
    "            right_sum = sum\n",
    "            max_right = j\n",
    "\n",
    "    return (max_left, max_right, left_sum+right_sum)"
   ]
  },
  {
   "cell_type": "code",
   "execution_count": 92,
   "id": "8301eb04-0d14-449d-a3da-2bfe4c6eb11e",
   "metadata": {},
   "outputs": [
    {
     "data": {
      "text/plain": [
       "(7, 10, 43)"
      ]
     },
     "execution_count": 92,
     "metadata": {},
     "output_type": "execute_result"
    }
   ],
   "source": [
    "A = [13, -3, -25, 20, -3, -16, -23, 18, 20, -7, 12, -5, -22, 15, -4, 7]\n",
    "Find_max_crossing_subarray(A, 0, (len(A)-1)//2, len(A)-1)"
   ]
  },
  {
   "cell_type": "code",
   "execution_count": 93,
   "id": "6408b4a8-e776-4375-85b5-0a90368e077c",
   "metadata": {},
   "outputs": [],
   "source": [
    "def Find_maximum_subarray(A, low, high):\n",
    "    if high == low + 1:\n",
    "        return (low, low, A[low])\n",
    "    if low >= high:\n",
    "        return -1, -1, -1e100\n",
    "        \n",
    "    mid = (low + high) // 2        \n",
    "    left_low, left_high, left_sum = Find_maximum_subarray(A, low, mid)\n",
    "    right_low, right_high, right_sum = Find_maximum_subarray(A, mid, high)\n",
    "    cross_low, cross_high, cross_sum = Find_max_crossing_subarray(A, low, mid, high)        \n",
    "\n",
    "    if left_sum >= right_sum and left_sum >= cross_sum:\n",
    "        return left_low, left_high, left_sum\n",
    "        \n",
    "    elif right_sum >= left_sum and right_sum >= cross_sum:\n",
    "        return right_low, right_high, right_sum\n",
    "        \n",
    "    else:\n",
    "        return cross_low, cross_high, cross_sum"
   ]
  },
  {
   "cell_type": "code",
   "execution_count": 94,
   "id": "d448e8d9-9474-406f-abb5-fce2e0cf37e7",
   "metadata": {},
   "outputs": [
    {
     "data": {
      "text/plain": [
       "(7, 10, 43)"
      ]
     },
     "execution_count": 94,
     "metadata": {},
     "output_type": "execute_result"
    }
   ],
   "source": [
    "A = [13, -3, -25, 20, -3, -16, -23, 18, 20, -7, 12, -5, -22, 15, -4, 7]\n",
    "Find_maximum_subarray(A, 0, len(A)-1)"
   ]
  },
  {
   "cell_type": "code",
   "execution_count": 95,
   "id": "a9603cdb-1df7-45aa-b389-d785f7ea175d",
   "metadata": {},
   "outputs": [
    {
     "data": {
      "text/plain": [
       "(1, 1, -3)"
      ]
     },
     "execution_count": 95,
     "metadata": {},
     "output_type": "execute_result"
    }
   ],
   "source": [
    "A = [-13, -3, -25, -20, -3, -16, -23, -18, -20, -7, -12, -5, -22, -15, -4, -7]\n",
    "Find_maximum_subarray(A, 0, len(A)-1)"
   ]
  },
  {
   "cell_type": "markdown",
   "id": "21de2d32-e781-4851-bb55-f7219122513d",
   "metadata": {},
   "source": [
    "* $A$ のすべての要素が負のとき：(最小のインデックス, 最小のインデックス, Aの中の最小値)を返す。"
   ]
  },
  {
   "cell_type": "markdown",
   "id": "c9cf4e26-b13f-42c6-82f6-ad0cae8d00e9",
   "metadata": {},
   "source": [
    "### 4.1-2\n",
    "***\n",
    "> 総当り法を用いて最大部分配列問題を解く擬似コードを書け. この擬似コードの実行時間は $\\Theta(n^2)$ でなければならない. "
   ]
  },
  {
   "cell_type": "code",
   "execution_count": 106,
   "id": "95aab42f-5795-43f8-ab60-9a4618d21ee4",
   "metadata": {},
   "outputs": [],
   "source": [
    "def Find_maximum_subarray_round_robin(A):\n",
    "    sums = [0]\n",
    "    for a in A:\n",
    "        sums.append(sums[-1] + a)\n",
    "        print(sums)\n",
    "    max_sum = -1e100\n",
    "    left_index = -1\n",
    "    right_index = -1\n",
    "    for i in range(len(A)):\n",
    "        for j in range(i, len(A)):\n",
    "            if sums[j + 1] - sums[i] > max_sum:\n",
    "                max_sum = sums[j + 1] - sums[i]\n",
    "                left_index = i\n",
    "                right_index = j\n",
    "    return left_index, right_index, max_sum"
   ]
  },
  {
   "cell_type": "code",
   "execution_count": 107,
   "id": "0abbe917-f29e-4ba0-a08c-03bac2dd6fb5",
   "metadata": {},
   "outputs": [
    {
     "data": {
      "text/plain": [
       "(7, 10, 43)"
      ]
     },
     "execution_count": 107,
     "metadata": {},
     "output_type": "execute_result"
    }
   ],
   "source": [
    "A = [13, -3, -25, 20, -3, -16, -23, 18, 20, -7, 12, -5, -22, 15, -4, 7]\n",
    "find_maximum_subarray(A)"
   ]
  },
  {
   "cell_type": "markdown",
   "id": "613ef942-412a-4df6-9cd1-9bd558513db9",
   "metadata": {},
   "source": [
    "* ※ $sums[j + 1] - sums[i]$ は $A[i]$ から $A[j+1]$ までの値の合計という意味"
   ]
  },
  {
   "cell_type": "markdown",
   "id": "04e1524c-91e7-4f02-a6a7-972688a7f4cd",
   "metadata": {},
   "source": [
    "### 4.1-3\n",
    "***\n",
    "> 最大部分配列問題を解く総当りアルゴリズムと再帰アルゴリズムを計算機上で実現せよ. 再帰アルゴリズムと総当りアルゴリズムの性能が逆転(交差)する最小の問題サイズ $n_0$ を調べよ. 次に, 再帰アルゴリズムの基底をサイズが $n_0$ 以下ならば総当りアルゴリズムを用いるように変更せよ. この変更によって交点の位置は変化するか?"
   ]
  },
  {
   "cell_type": "markdown",
   "id": "9a37f75d-1b78-475a-9142-9a65fbafba9b",
   "metadata": {},
   "source": [
    "* 特になし"
   ]
  },
  {
   "cell_type": "markdown",
   "id": "6f2c0027-404f-4e97-a91b-6d2938eb68be",
   "metadata": {},
   "source": [
    "### 4.1-4\n",
    "***\n",
    "> 最大部分配列問題の定義を変更して空の部分配列も解として許すようにする. ここで, 空の部分配列の要素の和は0と定義する. 今まで紹介してきた空の部分配列を解として認めないアルゴリズムを, 空の部分配列も解として認めるように変更する方法を示せ. "
   ]
  },
  {
   "cell_type": "code",
   "execution_count": 100,
   "id": "b67c06bb-4e0f-40d7-a2c0-2138f6903a1a",
   "metadata": {},
   "outputs": [],
   "source": [
    "def Find_maximum_subarray(A, low, high):\n",
    "    if A == []:\n",
    "        return 0\n",
    "    \n",
    "    if high == low + 1:\n",
    "        return (low, low, A[low])\n",
    "    if low >= high:\n",
    "        return -1, -1, -1e100\n",
    "        \n",
    "    mid = (low + high) // 2        \n",
    "    left_low, left_high, left_sum = Find_maximum_subarray(A, low, mid)\n",
    "    right_low, right_high, right_sum = Find_maximum_subarray(A, mid, high)\n",
    "    cross_low, cross_high, cross_sum = Find_max_crossing_subarray(A, low, mid, high)        \n",
    "\n",
    "    if left_sum >= right_sum and left_sum >= cross_sum:\n",
    "        return left_low, left_high, left_sum\n",
    "        \n",
    "    elif right_sum >= left_sum and right_sum >= cross_sum:\n",
    "        return right_low, right_high, right_sum\n",
    "        \n",
    "    else:\n",
    "        return cross_low, cross_high, cross_sum"
   ]
  },
  {
   "cell_type": "code",
   "execution_count": 102,
   "id": "dd32bf33-ef4f-4ab1-9c9b-a142c81dd70e",
   "metadata": {},
   "outputs": [
    {
     "data": {
      "text/plain": [
       "0"
      ]
     },
     "execution_count": 102,
     "metadata": {},
     "output_type": "execute_result"
    }
   ],
   "source": [
    "A = []\n",
    "Find_maximum_subarray(A, 0, len(A)-1)"
   ]
  },
  {
   "cell_type": "markdown",
   "id": "0a0ccaa6-42cd-433c-a8e6-255d13e10860",
   "metadata": {},
   "source": [
    "### 4.1-5\n",
    "***\n",
    "> 以下のアイデアに基づいて, 最大部分配列問題を解く非再帰的な線形時間アルゴリズムを設計せよ. 配列の左端から開始し, 発見した最大部分配列を保持しながら右方向に処理を進める. $A[1 \\dots j]$ の最大部分配列が分かっているとする. $A[1 \\dots j+1]$ の最大部分配列は, ($A[j + 1]$ を含まず) $A[1 \\dots j]$ の最大部分配列と等しいか, ($A[j+1]$ を含み)ある $1 \\le i \\le j + 1$ に対して $A[i \\dots j+1]$ と書けるかどちらかである. 後者の形の部分配列の中で和が最大のものは, 添字 $j$ で終了する部分配列の中で和が最大のものを保持していれば, 定数時間で決定できる."
   ]
  },
  {
   "cell_type": "code",
   "execution_count": 123,
   "id": "3dc9a7eb-3f63-4732-a98d-4a09a68208cf",
   "metadata": {},
   "outputs": [],
   "source": [
    "def find_maximum_subarray(A):\n",
    "    max_sum = -1e100\n",
    "    max_left, max_right = -1, -1\n",
    "    sum = 0\n",
    "    last_left = 0\n",
    "    for i in range(len(A)):\n",
    "        sum += A[i]\n",
    "        if sum > max_sum:\n",
    "            max_sum = sum\n",
    "            max_left = last_left\n",
    "            max_right = i\n",
    "        if sum < 0:\n",
    "            sum = 0\n",
    "            last_left = i + 1\n",
    "        \n",
    "    return max_left, max_right, max_sum"
   ]
  },
  {
   "cell_type": "code",
   "execution_count": 124,
   "id": "89a75e87-0e70-4785-bd3a-f8b06e8fec3e",
   "metadata": {},
   "outputs": [
    {
     "data": {
      "text/plain": [
       "(7, 10, 43)"
      ]
     },
     "execution_count": 124,
     "metadata": {},
     "output_type": "execute_result"
    }
   ],
   "source": [
    "A = [13, -3, -25, 20, -3, -16, -23, 18, 20, -7, 12, -5, -22, 15, -4, 7]\n",
    "find_maximum_subarray(A)"
   ]
  }
 ],
 "metadata": {
  "kernelspec": {
   "display_name": "Python 3 (ipykernel)",
   "language": "python",
   "name": "python3"
  },
  "language_info": {
   "codemirror_mode": {
    "name": "ipython",
    "version": 3
   },
   "file_extension": ".py",
   "mimetype": "text/x-python",
   "name": "python",
   "nbconvert_exporter": "python",
   "pygments_lexer": "ipython3",
   "version": "3.11.5"
  }
 },
 "nbformat": 4,
 "nbformat_minor": 5
}
