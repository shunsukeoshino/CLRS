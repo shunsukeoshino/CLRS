{
 "cells": [
  {
   "cell_type": "markdown",
   "id": "c02d63fa-b6e7-422d-970b-09eefc1fae29",
   "metadata": {},
   "source": [
    "## 4.4 瀬化式を解くための再帰木法"
   ]
  },
  {
   "cell_type": "markdown",
   "id": "934e476c-4ef5-4257-ad11-fb5f25a128bf",
   "metadata": {},
   "source": [
    "### 4.4-1\n",
    "***\n",
    "> 再掃木を用いて新化式 $T(n)=3T(\\left \\lfloor n / 2 \\right \\rfloor) + n$ に対する良い漸近的上界を求めよ. 置換え法を用いて答えを検証せよ. "
   ]
  },
  {
   "cell_type": "markdown",
   "id": "58c120ff-94dd-445f-8d89-9986a9861904",
   "metadata": {},
   "source": [
    "<img src=\"exercises_4.4-1.jpeg\" width=\"50%\">"
   ]
  },
  {
   "cell_type": "markdown",
   "id": "d80368df-dfc9-430c-8132-0bc6dec040fa",
   "metadata": {},
   "source": [
    "$$\n",
    "\\begin{array}{lll}\n",
    "T(n) & ≈ & \\displaystyle 3T(n / 2) + n \\\\\n",
    "& = & \\displaystyle \\sum_{i=0}^{\\lg n - 1}(\\frac{3}{2})^i n + \\Theta(n^{\\lg 3}) \\\\\n",
    "& = & \\displaystyle \\frac{(3/2)^{\\lg n}-1}{(3/2)-1}n + \\Theta(n^{\\lg 3}) \\\\\n",
    "& = & \\displaystyle 2n^{\\lg 3} - 2n + \\Theta({n^{\\lg 3}}) \\\\\n",
    "& = & \\displaystyle O({n^{\\lg 3}})\n",
    "\\end{array}\n",
    "$$"
   ]
  },
  {
   "cell_type": "markdown",
   "id": "9ffe1915-64d2-48a0-b8d9-f2aaf637c31c",
   "metadata": {},
   "source": [
    "$T(n) \\le cn^{\\lg 3}$ と仮定.\n",
    "\n",
    "$$\n",
    "\\begin{array}{lll}\n",
    "T(n) & \\le & \\displaystyle 3c(\\frac{n}{2})^{\\lg 3} + n  \\\\\n",
    "     & \\le & \\displaystyle 3c n^{\\lg 3} + n  \\\\\n",
    "     &   = & \\displaystyle O(n^{\\lg 3}) \\\\\n",
    "\\end{array}\n",
    "$$\n",
    "\n",
    "よって置き換え法より検証できた."
   ]
  },
  {
   "cell_type": "markdown",
   "id": "c9cf4e26-b13f-42c6-82f6-ad0cae8d00e9",
   "metadata": {},
   "source": [
    "### 4.4-2\n",
    "***\n",
    "> 再帰木を用いて瀬化式 $T(n)=T(n/2)+n^2$ に対する良い漸近的上界を求めよ. 置換え法を用いて答えを検証せよ."
   ]
  },
  {
   "cell_type": "markdown",
   "id": "398f42fe-224f-4839-b399-0d45a8f453de",
   "metadata": {},
   "source": [
    "<img src=\"exercises_4.4-2.jpeg\" width=\"20%\">"
   ]
  },
  {
   "cell_type": "markdown",
   "id": "d2934000-5d05-4a72-8ec0-77ac9f2f0a09",
   "metadata": {},
   "source": [
    "$$\n",
    "\\begin{array}{lll}\n",
    "T(n) & = & \\displaystyle \\sum_{i=0}^{\\lg n - 1}(\\frac{1}{4})^i n^2 + \\Theta(1) \\\\\n",
    "& = & \\displaystyle \\frac{(1/4)^{\\lg n}-1}{(1/4)-1}n^2 + \\Theta(1) \\\\\n",
    "& = & \\displaystyle \\frac{4}{3}(n^2 - 1) + \\Theta(1) \\\\\n",
    "& = & \\displaystyle O(n^2) \\\\\n",
    "\\end{array}\n",
    "$$"
   ]
  },
  {
   "cell_type": "markdown",
   "id": "bd9dc042-f76a-487f-b176-947b82e38930",
   "metadata": {},
   "source": [
    "$T(n) \\le cn^{2}$ と仮定.\n",
    "\n",
    "$$\n",
    "\\begin{array}{lll}\n",
    "T(n) & \\le & \\displaystyle c(\\frac{n}{2})^2 + n^2  \\\\\n",
    "     & \\le & \\displaystyle c n^2  & \\displaystyle (c \\ge \\frac{4}{3}) \\\\\n",
    "     &   = & \\displaystyle O(n^{\\lg 3}) \\\\\n",
    "\\end{array}\n",
    "$$\n",
    "\n",
    "よって置き換え法より検証できた."
   ]
  },
  {
   "cell_type": "markdown",
   "id": "04e1524c-91e7-4f02-a6a7-972688a7f4cd",
   "metadata": {},
   "source": [
    "### 4.4-3\n",
    "***\n",
    "> 再帰木を用いて漸化式 $T(n)=4T(n/2+2)+n$ に対する良い漸近的上界を求めよ. 置換え法を用いて答えを検証せよ. "
   ]
  },
  {
   "cell_type": "markdown",
   "id": "bc58b757-1f6d-4b4c-8c2c-d3a4a3a9255a",
   "metadata": {},
   "source": [
    "<img src=\"exercises_4.4-3.jpeg\" width=\"50%\">"
   ]
  },
  {
   "cell_type": "markdown",
   "id": "543fb679-085f-4fab-9bc2-a0fd29248db8",
   "metadata": {},
   "source": [
    "$$\n",
    "\\begin{array}{lll}\n",
    "T(n) & ≈ & \\displaystyle 4T(n / 2) + n \\\\\n",
    "& = & \\displaystyle \\sum_{i=0}^{\\lg n - 1} 2^i n + \\Theta(n^2) \\\\\n",
    "& = & \\displaystyle \\frac{2^{\\lg n}-1}{2-1}n + \\Theta(n^2) \\\\\n",
    "& = & \\displaystyle n^2 - n + \\Theta(n^2) \\\\\n",
    "& = & \\displaystyle O(n^2) \\\\\n",
    "\\end{array}\n",
    "$$"
   ]
  },
  {
   "cell_type": "markdown",
   "id": "40f241d0-61cf-44ed-8208-e936d33ee57f",
   "metadata": {},
   "source": [
    "$T(n) \\le cn^{2}$ と仮定.\n",
    "\n",
    "$$\n",
    "\\begin{array}{lll}\n",
    "T(n) & \\le & \\displaystyle c(\\frac{n}{2} + 2)^2 + n \\\\\n",
    "     & \\le & \\displaystyle c n^2  \\\\\n",
    "     &   = & \\displaystyle O(n^{\\lg 3}) \\\\\n",
    "\\end{array}\n",
    "$$\n",
    "\n",
    "よって置き換え法より検証できた."
   ]
  },
  {
   "cell_type": "markdown",
   "id": "6f2c0027-404f-4e97-a91b-6d2938eb68be",
   "metadata": {},
   "source": [
    "### 4.4-4\n",
    "***\n",
    "> 再帰木を用いて漸化式 $T(n)=2T(n-1)+1$ に対する良い漸近的上界を求めよ. 置換え法を用いて答えを検証せよ."
   ]
  },
  {
   "cell_type": "markdown",
   "id": "dfa3cca0-4e0c-4438-9f27-cadb696ef618",
   "metadata": {},
   "source": [
    "<img src=\"exercises_4.4-4.jpeg\" width=\"40%\">"
   ]
  },
  {
   "cell_type": "markdown",
   "id": "09da4585-8aa1-4ac6-910b-66935f85f0ed",
   "metadata": {},
   "source": [
    "$$\n",
    "\\begin{array}{lll}\n",
    "T(n) & = & \\displaystyle \\sum_{i=0}^{n - 1}(2^i) + \\Theta(2^n) \\\\\n",
    "& = & \\displaystyle \\frac{2^n-1}{2-1} + \\Theta(2^n) \\\\\n",
    "& = & \\displaystyle 2^n - 1 + \\Theta(2^n) \\\\\n",
    "& = & \\displaystyle O(2^n) \\\\\n",
    "\\end{array}\n",
    "$$"
   ]
  },
  {
   "cell_type": "markdown",
   "id": "ef17aa47-fd8e-4c3c-a5da-7a20fdc24569",
   "metadata": {},
   "source": [
    "$T(n) \\le c 2^{n}$ と仮定.\n",
    "\n",
    "$$\n",
    "\\begin{array}{lll}\n",
    "T(n) & \\le & \\displaystyle 2 c 2^{n-1} + 1 \\\\\n",
    "     & = & \\displaystyle c 2^n + 1 \\\\\n",
    "     &   = & \\displaystyle O(n^{\\lg 3}) \\\\\n",
    "\\end{array}\n",
    "$$\n",
    "\n",
    "よって置き換え法より検証できた."
   ]
  },
  {
   "cell_type": "markdown",
   "id": "0a0ccaa6-42cd-433c-a8e6-255d13e10860",
   "metadata": {},
   "source": [
    "### 4.4-5\n",
    "***\n",
    "> 再帰木を用いて漸化式  $T(n)=T(n-1)+T(n/2)+n$ に対する良い漸近的上界を求めよ. 置換え法を用いて答えを検証せよ."
   ]
  },
  {
   "cell_type": "markdown",
   "id": "2e9df1c6-6f89-439b-bb7d-580c7fa8db12",
   "metadata": {},
   "source": [
    "<img src=\"exercises_4.4-5.jpeg\" width=\"30%\">"
   ]
  },
  {
   "cell_type": "markdown",
   "id": "f8190d1b-73c5-4771-9a89-af6abd196057",
   "metadata": {},
   "source": [
    "最長路はレベルが $n$ であり, その葉までの各レベル $i$ における総コストは $\\frac{3^i n - 2^i・7}{2^i}$ より, "
   ]
  },
  {
   "cell_type": "markdown",
   "id": "cb348bfd-2973-472b-ba36-4cb0be72c7bb",
   "metadata": {},
   "source": [
    "$$\n",
    "\\begin{array}{lll}\n",
    "T(n) & \\le & \\displaystyle  \\sum_{i=0}^{n - 1}\\frac{3^i n - 2^i・7}{2^i} + \\Theta(2^n) \\\\\n",
    "& \\le & \\displaystyle  \\sum_{i=0}^{n - 1}(\\frac{3}{2})^i n + \\Theta(2^n) \\\\\n",
    "& = & \\displaystyle  \\frac{(\\frac{3}{2})^n-1}{\\frac{3}{2}-1} n + \\Theta(2^n) \\\\\n",
    "& \\le & \\displaystyle O(n (\\frac{3}{2})^n) \\\\\n",
    "\\end{array}\n",
    "$$"
   ]
  },
  {
   "cell_type": "markdown",
   "id": "9d2457ae-845b-4d85-9e43-2ff94391f322",
   "metadata": {},
   "source": [
    "$T(n) \\le c n (\\frac{3}{2})^n$ と仮定.\n",
    "\n",
    "$$\n",
    "\\begin{array}{lll}\n",
    "T(n) & \\le & \\displaystyle c (n-1) (\\frac{3}{2})^{n-1} + c (\\frac{n}{2}) (\\frac{3}{2})^{\\frac{n}{2}} + n \\\\\n",
    "     & \\le & \\displaystyle c n (\\frac{3}{2})^n\\\\\n",
    "     &   = & \\displaystyle O(n (\\frac{3}{2})^n) \\\\\n",
    "\\end{array}\n",
    "$$\n",
    "\n",
    "よって置き換え法より検証できた."
   ]
  },
  {
   "cell_type": "markdown",
   "id": "21fff076-ce00-4901-ba06-2029810d1d4d",
   "metadata": {},
   "source": [
    "### 4.4-6\n",
    "***\n",
    "> 漸化式 $T(n)=T(n/3)+T(2n/3)+cn$ の解が $\\Omega(n \\lg n)$ であることを再帰木を用いて論ぜよ. ただし, $c$ は定数である. "
   ]
  },
  {
   "cell_type": "markdown",
   "id": "9410a4be-f0fb-42c7-996c-1144a7bcf48f",
   "metadata": {},
   "source": [
    "最短路はレベルが $\\log_3n$ であり, その葉までの各レベルにおける総コストは $cn$ より,"
   ]
  },
  {
   "cell_type": "markdown",
   "id": "d5aa4316-9917-46b4-920b-48a7c87ddc7d",
   "metadata": {},
   "source": [
    "$$\n",
    "\\begin{array}{lll}\n",
    "T(n) & \\ge & \\displaystyle cn(\\log_3n -1) + \\Theta(n) \\\\\n",
    "& \\ge & \\displaystyle cn \\log_3n \\\\\n",
    "& = & \\displaystyle \\Omega(n \\log_3n) \\\\\n",
    "\\end{array}\n",
    "$$"
   ]
  },
  {
   "cell_type": "markdown",
   "id": "4e4c0c31-9c8c-4231-a5d6-41b602e5b838",
   "metadata": {},
   "source": [
    "### 4.4-7\n",
    "***\n",
    "> $c$ を定数とする.  $T(n)=4T(\\left \\lfloor n / 2 \\rfloor \\right) + cn$ の再帰木を描き, 解の漸近的にタイトな限界を与えよ. 置換え法を用いてこの限界を検証せよ. "
   ]
  },
  {
   "cell_type": "markdown",
   "id": "b89ae901-7091-4a53-aa29-0ce77c8e7fc6",
   "metadata": {},
   "source": [
    "$$\n",
    "\\begin{array}{lll}\n",
    "T(n) & ≈ & \\displaystyle 4T(n / 2) + cn \\\\\n",
    "& = & \\displaystyle \\sum_{i=0}^{\\lg n - 1}2^i cn + \\Theta(n) \\\\\n",
    "& = & \\displaystyle \\frac{2^{\\lg n}-1}{2-1} cn + \\Theta(n) \\\\\n",
    "& = & \\displaystyle cn^2 - cn + \\Theta({n}) \\\\\n",
    "& = & \\displaystyle \\Theta({n^2})\n",
    "\\end{array}\n",
    "$$"
   ]
  },
  {
   "cell_type": "markdown",
   "id": "b182ca1f-2c0f-42d4-b011-d21f5d9ef396",
   "metadata": {},
   "source": [
    "### 4.4-8\n",
    "***\n",
    "> $a \\ge 1$ と $c > 0$ を定数とする. $T(n) = T(n-a) + T(a) + cn$の再帰木を用いて, 解の漸近的にタイトな限界を与えよ. "
   ]
  },
  {
   "cell_type": "markdown",
   "id": "da8d2cb5-3438-4287-9949-50b2f876cf3e",
   "metadata": {},
   "source": [
    "$T(0)$ は定義されていないから $T(a) = ca$ とすることにする. 根はレベルが $\\frac{n}{a}$ であり, その葉までの各レベル $i$ における総コストは $cn$ より,"
   ]
  },
  {
   "cell_type": "markdown",
   "id": "412b14df-ac61-412b-a2fa-04840c23c611",
   "metadata": {},
   "source": [
    "$$\n",
    "\\begin{array}{lll}\n",
    "T(n) & = & \\displaystyle \\sum_{i=0}^{n/a}(c(n-ai) )+ \\frac{n}{a} cn \\\\\n",
    "& = & \\displaystyle \\Theta(n^2) \\\\\n",
    "\\end{array}\n",
    "$$"
   ]
  },
  {
   "cell_type": "markdown",
   "id": "fce787f4-4e5e-4a37-82d7-93eff926db68",
   "metadata": {},
   "source": [
    "### 4.4-9\n",
    "***\n",
    "> 再帰木を用いて漸化式 $T(n)=T(\\alpha n)+T((1-\\alpha)n)+cn$ の漸近的にタイトな解を求めよ. ただし,  $\\alpha$ は $0 < \\alpha < 1$ の範囲にある定数であり, $c > 0$ も定数である. "
   ]
  },
  {
   "cell_type": "markdown",
   "id": "36831dea-3009-497c-96f1-0546f9fc4d5f",
   "metadata": {},
   "source": [
    "最短路も最長路も特に考えなくて良い. 根はレベルが $\\log_{1/\\alpha}n$ であり, その葉までの各レベルにおける総コストは $cn$ より,"
   ]
  },
  {
   "cell_type": "markdown",
   "id": "aac1182a-cfcd-4d29-9a6d-b03e0dc9fdb0",
   "metadata": {},
   "source": [
    "$$\n",
    "\\begin{array}{lll}\n",
    "T(n) & = & \\displaystyle cn(\\log_{1/\\alpha}n-1) + \\Theta(n) \\\\\n",
    "& = & \\displaystyle \\Theta(n\\lg n) \\\\\n",
    "\\end{array}\n",
    "$$"
   ]
  }
 ],
 "metadata": {
  "kernelspec": {
   "display_name": "Python 3 (ipykernel)",
   "language": "python",
   "name": "python3"
  },
  "language_info": {
   "codemirror_mode": {
    "name": "ipython",
    "version": 3
   },
   "file_extension": ".py",
   "mimetype": "text/x-python",
   "name": "python",
   "nbconvert_exporter": "python",
   "pygments_lexer": "ipython3",
   "version": "3.11.5"
  }
 },
 "nbformat": 4,
 "nbformat_minor": 5
}
