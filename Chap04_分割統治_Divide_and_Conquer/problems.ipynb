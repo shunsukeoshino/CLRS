{
 "cells": [
  {
   "cell_type": "markdown",
   "id": "46daf0a1-c201-48a7-b3d1-b5f850088a1e",
   "metadata": {},
   "source": [
    "### 4-1 漸化式の例題\n",
    "\n",
    "***\n",
    "\n",
    "> 以下のそれぞれの瀬化式について, $T(n)$ に対する漸近的な上界と下界を求めよ. $T(n)$ は\n",
    ">\n",
    "> $n\\le2$ に対して定数であると仮定せよ. できる限り良い限界を提示し, それが正しいことを示せ. "
   ]
  },
  {
   "cell_type": "markdown",
   "id": "421a3926-82ac-43a7-a321-e5ba3e113d03",
   "metadata": {},
   "source": [
    "> __*a*__. $T(n)=2T(n/2)+n^4$."
   ]
  },
  {
   "cell_type": "markdown",
   "id": "43c19506-2fca-4c25-ab9f-3e9689098db8",
   "metadata": {},
   "source": [
    "$\\Theta(n^4)$"
   ]
  },
  {
   "cell_type": "markdown",
   "id": "ccdf76e8-493d-4c27-a7fa-ca1e64a9a52d",
   "metadata": {},
   "source": [
    "> __*b*__. $T(n)=T(7n/10)+n$."
   ]
  },
  {
   "cell_type": "markdown",
   "id": "c464f7f7-97a0-4d8f-88d1-a1c00559506c",
   "metadata": {},
   "source": [
    "$\\Theta(n)$"
   ]
  },
  {
   "cell_type": "markdown",
   "id": "825ee0fe-1f76-43fb-be4b-e4f8f2f4087b",
   "metadata": {},
   "source": [
    "> __*c*__. $T(n)=16T(n/4)+n^2$."
   ]
  },
  {
   "cell_type": "markdown",
   "id": "1a22ba47-09a5-411e-811f-5a26b1964455",
   "metadata": {},
   "source": [
    "$\\Theta(n^2 \\lg n)$"
   ]
  },
  {
   "cell_type": "markdown",
   "id": "a01007e3-e8b9-4dc7-8cb8-09076d45b2f9",
   "metadata": {},
   "source": [
    "> __*d*__. $T(n)=7T(n/3)+n^2$."
   ]
  },
  {
   "cell_type": "markdown",
   "id": "79af142b-b951-410c-862d-32c4d0351cec",
   "metadata": {},
   "source": [
    "$\\Theta(n^2)$"
   ]
  },
  {
   "cell_type": "markdown",
   "id": "9ea83989-10fd-4ac6-b624-7119ae7f80f1",
   "metadata": {},
   "source": [
    "> __*e*__. $T(n)=7T(n/2)+n^2$."
   ]
  },
  {
   "cell_type": "markdown",
   "id": "7d3dd46d-ee10-4e7d-8ef5-4a66bf95aa66",
   "metadata": {},
   "source": [
    "$\\Theta(n^{\\lg 7})$"
   ]
  },
  {
   "cell_type": "markdown",
   "id": "0a7dd13c-be26-4147-bcbf-e2137cd15823",
   "metadata": {},
   "source": [
    "> __*f*__. $T(n)=2T(n/4)+\\sqrt{n}$."
   ]
  },
  {
   "cell_type": "markdown",
   "id": "c41a16d1-0e57-462d-ab76-6174ada16c0b",
   "metadata": {},
   "source": [
    "$\\Theta(\\sqrt{n}\\lg n)$> __*g*__. $T(n)=T(n-2)+n^2$.\n"
   ]
  },
  {
   "cell_type": "markdown",
   "id": "6ebb7e3c-f57b-4cb0-b3f2-22660d3df4f5",
   "metadata": {},
   "source": [
    "> __*g*__. $T(n)=T(n-2)+n^2$."
   ]
  },
  {
   "cell_type": "markdown",
   "id": "e5932f7e-ff7d-4fc3-9d3d-cc8ae6b161f6",
   "metadata": {},
   "source": [
    "$\\Theta(n^3)$"
   ]
  },
  {
   "cell_type": "markdown",
   "id": "4195247d-dcb5-46ba-8bdf-c91067c832f2",
   "metadata": {},
   "source": [
    "### 4-2 引数渡しコスト\n",
    "\n",
    "***\n",
    "\n",
    "> 本書を通じて, 手続きを呼び出すときの引数渡しには要素数が $N$ の配列を渡す場合でも定数時間しかかからないと仮定している. 配列自体ではなく配列へのポインタが渡されるから, この仮定はほとんどのシステムで妥当である. 以下の3種類の引数渡し戦略が導く帰結を本問題では検討する.\n",
    "> \n",
    "> 1. 配列をポインタによって渡す. 時間 = $\\Theta(1)$.\n",
    "> 2. 配列をコピーすることによって渡す. 時間 = $O(N)$. ただし, Nは配列のサイズである.\n",
    "> 3. 呼び出された手続きがアクセスする可能性のある部分配列だけをコビーすることによって渡す. 部分配列 $A[p \\dots q]$ が渡されるとき, 時間 = $\\Theta(q - p + 1)$ である.\n"
   ]
  },
  {
   "cell_type": "markdown",
   "id": "8e47d15c-2d36-4ac7-9f1e-f13b4bbdfe5c",
   "metadata": {},
   "source": [
    "> __*a*__. ソート済み配列からある数を探索する再帰的2分探索アルゴリズムを考える. (練習問題2.3-5を参照せよ.)上に述べた3つの方法のそれぞれを用いて配列を渡すとき, 2分探索アルゴリズムの最悪実行時間に対する漸化式を求め, この漸化式の解の良い上界を求めよ. $N$ を元の問題のサイズ, $n$ を部分問題のサイズとする. "
   ]
  },
  {
   "cell_type": "markdown",
   "id": "e4980a26-f08d-4b10-910e-64398f0ac0ee",
   "metadata": {},
   "source": [
    "1. $T(n)=T(n/2)+1=\\Theta(\\lg n)$\n",
    "2. $T(n)=T(n/2)+N=\\Theta(n \\lg n)$\n",
    "3. $T(n)=T(n/2)+n=\\Theta(n)$"
   ]
  },
  {
   "cell_type": "markdown",
   "id": "a42579ee-ab4d-4c76-9019-75362e348d3c",
   "metadata": {},
   "source": [
    "> __*b*__. 第2.3.1項で述べたMERGE-SORTアルゴリズムに対して(a)を解け."
   ]
  },
  {
   "cell_type": "markdown",
   "id": "175971c4-88af-42be-8c3e-4a5d470c0ef5",
   "metadata": {},
   "source": [
    "1. $T(n)=2T(n/2)+n+c=2T(n/2)+n=\\Theta(n\\lg n)$\n",
    "2. $T(n)=2T(n/2)+n+N=2T(n/2)+N=\\Theta(n^2)$\n",
    "3. $T(n)=2T(n/2)+n+n=2T(n/2)+n=\\Theta(n\\lg n)$"
   ]
  },
  {
   "cell_type": "markdown",
   "id": "3fb19b0e-3d03-424c-bd34-c27b4cbe6638",
   "metadata": {},
   "source": [
    "### 4-3 さらなる漸化式の例\n",
    "\n",
    "***\n",
    "\n",
    "> 以下の各漸化式について $T(n)$ の漸近的上界と下界を与えよ. ただし, 十分に小さな $n$ に対して $T(n)$ は定数であると仮定せよ. できるだけ良い限界を提示し, それが正しいことを証明せよ. "
   ]
  },
  {
   "cell_type": "markdown",
   "id": "7dc81e28-f0e6-48b7-9c6d-e1ffb7aa20ac",
   "metadata": {},
   "source": [
    "> __*a*__. $T(n) = 4T(n/3) + n\\lg n$."
   ]
  },
  {
   "cell_type": "markdown",
   "id": "967422e8-dccc-42de-965f-d55719fe92aa",
   "metadata": {},
   "source": [
    "$\\Theta(n^{\\log_3^4})$"
   ]
  },
  {
   "cell_type": "markdown",
   "id": "993b27f6-db8a-4a57-bcfa-f3efa47511c5",
   "metadata": {},
   "source": [
    "> __*b*__. $T(n) = 3T(n/3) + n/\\lg n$."
   ]
  },
  {
   "cell_type": "markdown",
   "id": "ceb2c72d-4b51-4b13-bdf1-bb9d322fd220",
   "metadata": {},
   "source": [
    "For harmonic series:\n",
    "\n",
    "$$\n",
    "\\ln (n+1) \\le \\int_1^{n+1} \\frac{1}{t}dt \\le \\sum_{i=1}^n \\frac{1}{i} \\le 1 + \\int_1^n \\frac{1}{t}dt = 1 + \\ln n\n",
    "$$\n",
    "\n",
    "Therefore, harmonic series are $\\Theta(\\lg n)$\n",
    "\n",
    "$$\n",
    "\\begin{array}{rll}\n",
    "T(n) & = & \\displaystyle n\\sum_{i=0}^{\\log_3{n} - 1}\\frac{1}{\\lg \\frac{n}{3^i}} \\\\\n",
    "& = & \\displaystyle \\Theta(n\\sum_{i=0}^{\\log_3{n} - 1}\\frac{1}{\\log_3 \\frac{n}{3^i}}) \\\\\n",
    "& = & \\displaystyle \\Theta(n\\sum_{i=1}^{\\log_3{n}}\\frac{1}{i}) \\\\\n",
    "& = & \\displaystyle \\Theta(n\\lg \\lg n)\n",
    "\\end{array}\n",
    "$$"
   ]
  },
  {
   "cell_type": "markdown",
   "id": "23da6ae7-b484-40e7-805d-cb59a6b671f1",
   "metadata": {},
   "source": [
    "> __*c*__. $T(n) = 4T(n/2) + n^2\\sqrt{n}$."
   ]
  },
  {
   "cell_type": "markdown",
   "id": "f11b7bd2-064d-46d8-9fc0-0ae1eaf12239",
   "metadata": {},
   "source": [
    "$\\Theta(n^2\\sqrt{n})$"
   ]
  },
  {
   "cell_type": "markdown",
   "id": "6f3fa63d-3785-4cbd-bd2e-09e69543da26",
   "metadata": {},
   "source": [
    "> __*e*__. $T(n) = 2T(n/2) + n/\\lg n$."
   ]
  },
  {
   "cell_type": "markdown",
   "id": "17d1d357-d06c-4c99-a1b9-a95680e47390",
   "metadata": {},
   "source": [
    "Same as __*b*__,\n",
    "\n",
    "\n",
    "$\\Theta(n\\lg \\lg n)$"
   ]
  },
  {
   "cell_type": "markdown",
   "id": "42bf56b4-246c-4678-aac2-9bea35982bbf",
   "metadata": {},
   "source": [
    "> __*f*__. $T(n) = T(n/2) + T(n/4) + T(n/8) + n$."
   ]
  },
  {
   "cell_type": "markdown",
   "id": "92dbc850-9e71-4b78-894e-deaaf4b2f445",
   "metadata": {},
   "source": [
    "$\\Theta(n)$> __*g*__. $T(n) = T(n-1) + 1/n$.\n"
   ]
  },
  {
   "cell_type": "markdown",
   "id": "f20098bd-cfdb-49db-8b58-c8f222b5d8b8",
   "metadata": {},
   "source": [
    "> __*g*__. $T(n) = T(n-1) + 1/n$."
   ]
  },
  {
   "cell_type": "markdown",
   "id": "412df512-3387-4f5e-921e-3c4c00fd5d2b",
   "metadata": {},
   "source": [
    "$$\n",
    "\\begin{array}{rll}\n",
    "T(n) & = & \\displaystyle \\sum_{i=1}^n \\frac{1}{i} \\\\\n",
    "& = & \\displaystyle \\Theta(\\lg n)\n",
    "\\end{array}\n",
    "$$"
   ]
  },
  {
   "cell_type": "markdown",
   "id": "0c2e7325-ec23-4ce3-89ab-861c04ea32e2",
   "metadata": {},
   "source": [
    "> __*h*__. $T(n) = T(n-1) + \\lg n$."
   ]
  },
  {
   "cell_type": "markdown",
   "id": "dc847a43-94a5-487b-a61e-9f60adbe71a7",
   "metadata": {},
   "source": [
    "$$\n",
    "\\begin{array}{rll}\n",
    "T(n) & = & \\displaystyle \\sum_{i=1}^n \\lg{i} \\\\\n",
    "& = & \\displaystyle \\lg{n!} \\\\\n",
    "& \\le & \\displaystyle \\lg{n^n} \\\\\n",
    "& = & \\displaystyle \\Theta(n\\lg n)\n",
    "\\end{array}\n",
    "$$"
   ]
  },
  {
   "cell_type": "markdown",
   "id": "822180b9-7d8d-4437-b169-d6b44fbd3d1a",
   "metadata": {},
   "source": [
    "> __*i*__. $T(n) = T(n-2) + 1/\\lg n$."
   ]
  },
  {
   "cell_type": "markdown",
   "id": "96d21088-a529-4850-8646-f99f2fbca5c9",
   "metadata": {},
   "source": [
    "$$\n",
    "\\begin{array}{rll}\n",
    "T(n) & = & \\displaystyle \\sum_{i=1}^{n/2} \\frac{1}{\\lg{2i}} \\\\\n",
    "& = & \\displaystyle \\Theta(\\lg \\lg n)\n",
    "\\end{array}\n",
    "$$"
   ]
  },
  {
   "cell_type": "markdown",
   "id": "d82de1f8-2fce-4838-b566-dc85dac3bfd6",
   "metadata": {},
   "source": [
    "> __*j*__. $T(n) = \\sqrt{n} T(\\sqrt{n}) + n$."
   ]
  },
  {
   "cell_type": "markdown",
   "id": "d39d6d31-0b43-47cc-bf23-bb520133011e",
   "metadata": {},
   "source": [
    "Let $n = 2^m$,\n",
    "\n",
    "$$\n",
    "\\begin{array}{rll}\n",
    "T(n) &=& \\sqrt{n} T(\\sqrt{n}) + n \\\\\n",
    "T(2^m) &=& 2^{m/2}T(2^{m/2}) + 2^m \\\\\n",
    "\\frac{T(2^m)}{2^m} &=& \\frac{T(2^{m/2})}{2^{m/2}} + 1 \\\\\n",
    "\\end{array}\n",
    "$$\n",
    "\n",
    "Let $\\displaystyle S(m)=\\frac{T(2^m)}{2^m}$, $ S(m) = S(m/2) + 1 = \\Theta(\\lg m)$,\n",
    "\n",
    "$\\therefore$ $T(2^m)=\\Theta(2^m \\lg m)$\n",
    "\n",
    "$\\therefore$ $T(n)=\\Theta(n \\lg \\lg n)$"
   ]
  },
  {
   "cell_type": "markdown",
   "id": "7532f9f1-3738-4a92-97b0-5382b6147a32",
   "metadata": {},
   "source": [
    "### 4-4 フィボナッチ数\n",
    "\n",
    "***\n",
    "\n",
    "> 漸化式(3.2)で定義されるフィボナッチ数の性質を本問題では検討する. ここではフィポナッチ漸化式を解くのに母関数を用いる. 母関数(generatingfunction)(または形式的ペキ級数(formalpowerseries): $\\mathcal{F}$ を\n",
    ">\n",
    "> $$\n",
    "\\begin{array}{lll}\n",
    "\\mathcal{F}(z) & = & \\sum_{i=0}^\\infty F_i z^i \\\\\n",
    "               & = & 0 + z + z^2 + 2z^3 + 3z^4 + 5z^5 + 8z^6 + 13z^7 + 21z^8+\\dots\n",
    "\\end{array}\n",
    "$$\n",
    "\n",
    "> で定義する .ただし， $\\mathcal{F}_i$ ,は $i$ 番目のフィボナッチ数である "
   ]
  },
  {
   "cell_type": "markdown",
   "id": "4ed86146-502f-4838-aac4-3ef8ec075385",
   "metadata": {},
   "source": [
    "> __*a*__. $\\mathcal{F}(z) = z + z \\mathcal{F}(z) + z^2\\mathcal{F}(z)$ であることを示せ."
   ]
  },
  {
   "cell_type": "markdown",
   "id": "504826ec-7bc4-4aae-bdd5-9c8c2dcf04fd",
   "metadata": {},
   "source": [
    "$$\n",
    "\\begin{array}{rll}\n",
    "z + z \\mathcal{F}(z) + z^2\\mathcal{F}(z) &=& z + z\\sum_{i=0}^\\infty F_i z^i + z^2\\sum_{i=0}^\\infty F_i z^i \\\\ \n",
    "&=& z + \\sum_{i=1}^\\infty F_{i-1} z^i + \\sum_{i=2}^\\infty F_{i-2} z^i \\\\\n",
    "&=& z + z^2 + \\sum_{i=2}^\\infty(F_{i-1} + F_{i-2})z^i \\\\\n",
    "&=& z + z^2 + \\sum_{i=2}^\\infty F_iz^i \\\\\n",
    "&=& \\sum_{i=0}^\\infty F_iz^i \\\\\n",
    "& = & \\mathcal{F}(z)\n",
    "\\end{array}\n",
    "$$"
   ]
  },
  {
   "cell_type": "markdown",
   "id": "2b97d4dd-bb56-4017-b1d2-82f703fd50f6",
   "metadata": {},
   "source": [
    "> __*b*__. \n",
    ">\n",
    "> $$\n",
    "\\begin{array}{lll}\n",
    "\\mathcal{F}(z) & = & \\displaystyle \\frac{z}{1-z-z^2} \\\\\n",
    "               & = & \\displaystyle \\frac{z}{(1-\\phi z)(1 - \\hat{\\phi}z)} \\\\\n",
    "               & = & \\displaystyle \\frac{1}{\\sqrt{5}}(\\frac{1}{1-\\phi z}-\\frac{1}{1-\\hat{\\phi} z}) \\\\\n",
    "\\end{array}\n",
    "$$\n",
    ">\n",
    "> であることを示せ. ただし,\n",
    "> \n",
    "> $$\\phi=\\frac{1+\\sqrt{5}}{2}=1.61803\\dots$$\n",
    "> \n",
    "> および\n",
    "> \n",
    "> $$\\hat{\\phi}=\\frac{1-\\sqrt{5}}{2}=-0.61803\\dots$$\n",
    "> である."
   ]
  },
  {
   "cell_type": "markdown",
   "id": "a032c2c2-c78d-40d4-9531-3a8246fed67d",
   "metadata": {},
   "source": [
    "$$\n",
    "\\begin{array}{rll}\n",
    "\\mathcal{F}(z) &=& \\displaystyle z + z \\mathcal{F}(z) + z^2\\mathcal{F}(z) \\\\\n",
    "(1-z-z^2)\\mathcal{F}(z) &=& \\displaystyle z \\\\\n",
    "\\mathcal{F}(z) &=& \\displaystyle \\frac{z}{1-z-z^2}\n",
    "\\end{array}\n",
    "$$\n",
    "\n",
    "$$\n",
    "\\begin{array}{rll}\n",
    "(1-\\phi z)(1 - \\hat{\\phi}z) &=& 1 - (\\phi + \\hat{\\phi})z + \\phi \\hat{\\phi} z^2 \\\\\n",
    "\\phi + \\hat{\\phi} &=& 1 \\\\\n",
    "\\phi \\hat{\\phi} &=& \\displaystyle \\frac{1-5}{4} = -1 \\\\\n",
    "\\therefore (1-\\phi z)(1 - \\hat{\\phi}z) &=& 1 - z - z^2 \\\\\n",
    "\\therefore \\mathcal{F}(z) & = & \\displaystyle \\frac{z}{(1-\\phi z)(1 - \\hat{\\phi}z)}\n",
    "\\end{array}\n",
    "$$\n",
    "\n",
    "$$\n",
    "\\begin{array}{rll}\n",
    "\\displaystyle \\frac{1}{\\sqrt{5}}(\\frac{1}{1-\\phi z}-\\frac{1}{1-\\hat{\\phi} z}) &=& \\displaystyle \\frac{1}{\\sqrt{5}}(\\frac{(\\hat{\\phi} - \\phi)z}{(1-\\phi z)(1-\\hat{\\phi} z)}) \\\\\n",
    "\\mathcal{F}(z) &=& \\displaystyle \\frac{1}{\\sqrt{5}}(\\frac{1}{1-\\phi z}-\\frac{1}{1-\\hat{\\phi} z}) \\\\\n",
    "\\end{array}\n",
    "$$"
   ]
  },
  {
   "cell_type": "markdown",
   "id": "64d0949a-d238-4d68-adde-baa72fdbb312",
   "metadata": {},
   "source": [
    "> __*c*__.\n",
    "> \n",
    "> $$\\mathcal{F}(z)=\\sum_{i=0}^{\\infty}\\frac{1}{\\sqrt{5}}(\\phi^i-\\hat{\\phi^i})z^i$$.\n",
    "> であることを示せ."
   ]
  },
  {
   "cell_type": "markdown",
   "id": "302dfce6-8b90-4ae4-bd15-5949ecb78f3b",
   "metadata": {},
   "source": [
    "$$\\sum_{i=0}^\\infty x^i=\\frac{1}{1-x}$$,\n",
    "\n",
    "$$\n",
    "\\begin{array}{rll}\n",
    "\\mathcal{F}(z) &=& \\displaystyle \\frac{1}{\\sqrt{5}}(\\frac{1}{1-\\phi z}-\\frac{1}{1-\\hat{\\phi} z}) \\\\\n",
    "&=& \\displaystyle \\sum_{i=0}^{\\infty}\\frac{1}{\\sqrt{5}}(\\phi^i-\\hat{\\phi^i})z^i\n",
    "\\end{array}\n",
    "$$"
   ]
  },
  {
   "cell_type": "markdown",
   "id": "2b537b91-95df-467d-81ff-1ad18839824a",
   "metadata": {},
   "source": [
    "> __*d*__. (c)を用いて, $i>0$ に対して, $F_i$ は $\\phi^i/\\sqrt{5}$ を最も近い整数に丸めたものであることを証明せよ. (ヒント: $| \\hat{\\phi} | < 1$ に注目せよ.)"
   ]
  },
  {
   "cell_type": "markdown",
   "id": "f1667c42-b298-47d8-b74a-54ebcacad660",
   "metadata": {},
   "source": [
    "$$\\frac{\\hat{\\phi^i}}{\\sqrt{5}} \\le 0.5$$"
   ]
  },
  {
   "cell_type": "markdown",
   "id": "c4bcec19-98dc-48c1-9dd0-d734b5f3164b",
   "metadata": {},
   "source": [
    "### 4-5 LSIチップのテスト\n",
    "\n",
    "***\n",
    "\n",
    "> 正常に動作すると思われる互いにテスト可能な $n$ 個のLSIチップを大岡教授は持っている. 教授のテスト用治具(jig)は2個のチップを利用する. この治具がロードされると, 各チップは互いを検査し, それが正常か故障かを報告する. 正常なチップは他方のチップが正常か故障かを常に正確に報告するが, 故障チップの答は信用できない. したがって, 1回のテストについて可能性のある4通りの結果は次のとおりである."
   ]
  },
  {
   "cell_type": "markdown",
   "id": "1dceecde-3ac6-4a65-b067-8545e5baa9ef",
   "metadata": {},
   "source": [
    "<img src=\"problems.png\" width=\"30%\">"
   ]
  },
  {
   "cell_type": "markdown",
   "id": "55b215af-86b3-4d0e-814e-cf7e3e0e9ca1",
   "metadata": {},
   "source": [
    "> __*a*__. 少なくとも半分のチップが故障しているならば, この種の対ごとのテストに基づくどんな戦略を用いても教授は必ずしも正常なチップを決定できないことを示せ. ただし, 故障チップは共謀して教授を欺くことができるものと仮定する."
   ]
  },
  {
   "cell_type": "markdown",
   "id": "2e1347b8-72ef-44a4-86ab-91721ac9c3e7",
   "metadata": {},
   "source": []
  },
  {
   "cell_type": "markdown",
   "id": "010534ce-87de-44a5-a159-ddf02e51fc33",
   "metadata": {},
   "source": [
    "> __*b*__. 過半数のチップが正常であるという仮定の下で, $n$ 個のチップの中から1個の正常チップを見つける問題を考えよう. 対ごとのテストを $\\left \\lfloor n / 2 \\right \\rfloor$ 回行えば, この問題をほぼ半分のサイズの問題に帰着できることを示せ."
   ]
  },
  {
   "cell_type": "markdown",
   "id": "8e58f07a-ddb9-4b45-9c2f-55188624591a",
   "metadata": {},
   "source": []
  },
  {
   "cell_type": "markdown",
   "id": "950f2edf-4179-4a57-8001-61f625f158ca",
   "metadata": {},
   "source": [
    "> __*c*__. 過半数のチップが正常であるという仮定の下で, $\\Theta(n)$ 回の対ごとのテストを用いてすべての正常なチップを発見できることを示せ. テスト回数を記述する漸化式を与え, そして解け. "
   ]
  },
  {
   "cell_type": "markdown",
   "id": "98c5dfc3-1dc2-4269-986b-12c9ba4d439b",
   "metadata": {},
   "source": []
  },
  {
   "cell_type": "markdown",
   "id": "858318c1-6244-495e-8075-4de1980b6270",
   "metadata": {},
   "source": [
    "### 4-6 モンジュ行列\n",
    "\n",
    "***\n",
    "\n",
    "> "
   ]
  },
  {
   "cell_type": "markdown",
   "id": "df01880f-bdaa-4334-b1bd-03e52063e403",
   "metadata": {},
   "source": []
  }
 ],
 "metadata": {
  "kernelspec": {
   "display_name": "Python 3 (ipykernel)",
   "language": "python",
   "name": "python3"
  },
  "language_info": {
   "codemirror_mode": {
    "name": "ipython",
    "version": 3
   },
   "file_extension": ".py",
   "mimetype": "text/x-python",
   "name": "python",
   "nbconvert_exporter": "python",
   "pygments_lexer": "ipython3",
   "version": "3.11.5"
  }
 },
 "nbformat": 4,
 "nbformat_minor": 5
}
