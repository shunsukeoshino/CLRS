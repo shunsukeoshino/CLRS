{
 "cells": [
  {
   "cell_type": "markdown",
   "id": "c02d63fa-b6e7-422d-970b-09eefc1fae29",
   "metadata": {},
   "source": [
    "## 4.3 漸化式を解くための置換え法"
   ]
  },
  {
   "cell_type": "markdown",
   "id": "934e476c-4ef5-4257-ad11-fb5f25a128bf",
   "metadata": {},
   "source": [
    "### 4.3-1\n",
    "***\n",
    "> $T(n) = T(n-1) + n$ の解が $O(n^2)$ であることを示せ."
   ]
  },
  {
   "cell_type": "markdown",
   "id": "d80368df-dfc9-430c-8132-0bc6dec040fa",
   "metadata": {},
   "source": [
    "$T(n) \\le cn^2$ と仮定.\n",
    "\n",
    "$$\n",
    "\\begin{array}{lll}\n",
    "T(n) & \\le & \\displaystyle c(n-1)^2 + n  \\\\\n",
    "     &   = & \\displaystyle cn^2 - 2cn + c + n \\\\\n",
    "     &   = & \\displaystyle cn^2 -(2cn - c - n) \\\\\n",
    "     & \\le & \\displaystyle cn^2\n",
    "\\end{array}\n",
    "$$"
   ]
  },
  {
   "cell_type": "markdown",
   "id": "c9cf4e26-b13f-42c6-82f6-ad0cae8d00e9",
   "metadata": {},
   "source": [
    "### 4.3-2\n",
    "***\n",
    "> $T(n) = T(\\left \\lceil n / 2 \\right \\rceil) + 1$ の解が $O(\\lg n)$ であることを示せ."
   ]
  },
  {
   "cell_type": "markdown",
   "id": "f6f71d67-2fba-4b35-80c7-8a68443114a9",
   "metadata": {},
   "source": [
    "$T(n) \\le c\\lg n$ と仮定.\n",
    "\n",
    "$$\n",
    "\\begin{array}{llll}\n",
    "T(n) & \\le & \\displaystyle c\\lg(\\left \\lceil n / 2 \\right \\rceil) + 1 & \\\\\n",
    "     & \\le & \\displaystyle c\\lg(n / 2) + 1 & \\\\\n",
    "     &  =  & \\displaystyle c\\lg(n) - c\\lg(2) + 1 & \\\\\n",
    "     & = & \\displaystyle c\\lg(n) - c + 1 & \\\\\n",
    "     & \\le & \\displaystyle c\\lg(n) & \\displaystyle (c \\ge 1)\n",
    "\\end{array}\n",
    "$$"
   ]
  },
  {
   "cell_type": "markdown",
   "id": "04e1524c-91e7-4f02-a6a7-972688a7f4cd",
   "metadata": {},
   "source": [
    "### 4.3-3\n",
    "***\n",
    "> $T(n) = 2T(\\left \\lfloor n / 2 \\right \\rfloor) + n$ の解が $O(n \\lg n)$ であることを説明した. この漸化式の解が $\\Omega(n \\lg n)$ でもあることを示し, 解が $\\Theta(n \\lg n)$  であると結論せよ."
   ]
  },
  {
   "cell_type": "markdown",
   "id": "b254ae0f-d4b1-41e2-8775-f0c91d24ecaf",
   "metadata": {},
   "source": [
    "$T(n) = 2T(\\left \\lfloor n / 2 \\right \\rfloor) + n$ の解が $O(n \\lg n)$ より, $T(n) \\le cn \\lg n$ $(c \\ge 1)$"
   ]
  },
  {
   "cell_type": "markdown",
   "id": "d785fd6d-8ee7-4156-b396-ff0f76ad689b",
   "metadata": {},
   "source": [
    "$T(n) \\ge cn \\lg n$ と仮定.\n",
    "\n",
    "$$\n",
    "\\begin{array}{llll}\n",
    "T(n) & \\ge & \\displaystyle 2c\\left \\lfloor n / 2 \\right \\rfloor\\lg(\\left \\lfloor n / 2 \\right \\rfloor)+n & \\\\\n",
    "     & \\ge & \\displaystyle cn\\lg(n / 2)+n & \\\\\n",
    "     &  =  & \\displaystyle cn\\lg n - cn\\lg 2 + n & \\\\\n",
    "     &  =  & \\displaystyle cn\\lg n - cn + n & \\\\\n",
    "     & \\ge & \\displaystyle cn\\lg n & (c \\le 1)\n",
    "\\end{array}\n",
    "$$"
   ]
  },
  {
   "cell_type": "markdown",
   "id": "84350862-3afc-4f08-a445-3ac25cc5329a",
   "metadata": {},
   "source": [
    "よって, $c = 1$　として, $n \\lg n \\le T(n) \\le n \\lg n$　が成り立つことから,  $T(n) = \\Theta(n \\lg n)$ "
   ]
  },
  {
   "cell_type": "markdown",
   "id": "6f2c0027-404f-4e97-a91b-6d2938eb68be",
   "metadata": {},
   "source": [
    "### 4.3-4\n",
    "***\n",
    "> 異なった帰納法仮定を用いれば, 帰納的証明に対する境界条件を調整しなくても, 漸化式(4.19)に対する境界条件 $T(1)=1$ に伴う難しさを克服できることを示せ. "
   ]
  },
  {
   "cell_type": "markdown",
   "id": "b0952c0e-abf3-4370-b325-4f21a7f3a4f7",
   "metadata": {},
   "source": [
    "漸化式(4.19): $T(n) = 2T(\\left \\lfloor n / 2 \\right \\rfloor) + n$\n",
    "\n",
    "$T(n) \\le cn \\lg n + n$ と仮定.\n",
    "\n",
    "$$\n",
    "\\begin{array}{llll}\n",
    "T(n) & \\le & \\displaystyle 2(c\\left \\lfloor n / 2 \\right \\rfloor\\lg (\\left \\lfloor n / 2 \\right \\rfloor) + \\left \\lfloor n / 2 \\right \\rfloor) + n & \\\\\n",
    "     & \\le & \\displaystyle cn\\lg (n / 2) + 2n & \\\\\n",
    "     & = & \\displaystyle cn\\lg n - cn + 2n & \\\\\n",
    "     & \\le & \\displaystyle cn\\lg n + n &\n",
    "\\end{array}\n",
    "$$\n",
    "\n",
    "$n = 1$ のとき, $T(n) = 0 + 1 = 1$ より成立."
   ]
  },
  {
   "cell_type": "markdown",
   "id": "0a0ccaa6-42cd-433c-a8e6-255d13e10860",
   "metadata": {},
   "source": [
    "### 4.3-5\n",
    "***\n",
    "> マージソートに対する“正確”な漸化式(4.3)の解が $\\Theta(n\\lg n)$ であることを示せ."
   ]
  },
  {
   "cell_type": "markdown",
   "id": "4b046409-1df9-47e8-8487-91df6c2e1844",
   "metadata": {},
   "source": [
    "漸化式(4.3): \n",
    "\n",
    "$$\n",
    "T(n)=\\begin{cases}\n",
    "\\Theta(1) & \\text{if } n = 1 \\\\\n",
    "T(\\left \\lceil n / 2 \\right \\rceil) + T(\\left \\lfloor n / 2 \\right \\rfloor) + \\Theta(n) & \\text{if } n > 1\n",
    "\\end{cases}\n",
    "$$"
   ]
  },
  {
   "cell_type": "markdown",
   "id": "f188f16f-eebb-460f-b205-575b222898bb",
   "metadata": {},
   "source": [
    "4.3-3より, $T(n) = T(\\left \\lceil n / 2 \\right \\rceil) + T(\\left \\lfloor n / 2 \\right \\rfloor) + n$ は $O(n \\lg n)$ であり, $\\Omega(n \\lg n)$ でもあるということがわかる.\n",
    "\n",
    "したがって, $T(n) = \\Theta(n\\lg n)$"
   ]
  },
  {
   "cell_type": "markdown",
   "id": "3dfbcb72-ced4-465a-9e6d-fca120734137",
   "metadata": {},
   "source": [
    "### 4.3-6\n",
    "***\n",
    ">  $T(n)=2T(\\left \\lfloor n/2 \\right \\rfloor + 17) + n$ の解が $O(n \\lg n)$ であることを示せ. "
   ]
  },
  {
   "cell_type": "markdown",
   "id": "1a28cd14-021b-4a8a-8d7a-4f7071d15757",
   "metadata": {},
   "source": [
    "$T(n) \\le cn\\lg n$ と仮定.\n",
    "\n",
    "$$\n",
    "\\begin{array}{llll}\n",
    "T(n) & \\le & \\displaystyle 2c(\\left \\lfloor n / 2 \\right \\rfloor + 17)\\lg (\\left \\lfloor n / 2 \\right \\rfloor + 17) + n & \\\\\n",
    "     & \\le & \\displaystyle c(n + 34)\\lg (n / 2 + 17) + n & \\\\\n",
    "     & ≈ & \\displaystyle cn\\lg (n / 2) + n & (n は大きい) \\\\\n",
    "     & \\le & \\displaystyle cn\\lg n &\n",
    "\\end{array}\n",
    "$$"
   ]
  },
  {
   "cell_type": "markdown",
   "id": "8f61cfac-a496-4657-ab7d-7f7beaff0e47",
   "metadata": {},
   "source": [
    "### 4.3-7\n",
    "***\n",
    "> 第4.5節のマスター法を用いると, 漸化式 $T(n)=4T(n/3)+n$ の解が $T(n)=\\Theta(n^{\\log_34})$ であることが証明できる. 仮定 $T(n) \\le n^{\\log_34}$ を用いた置換え法に基づく証明が破綻することを示せ. この仮定から低次の項を適切に引くことで, 置換え法に基づく証明を完成させよ. "
   ]
  },
  {
   "cell_type": "markdown",
   "id": "8126005e-e953-499e-900c-dc86292a7eca",
   "metadata": {},
   "source": [
    "$T(n) \\le cn^{\\log_34}$ と仮定.\n",
    "\n",
    "$$\n",
    "T(n) \\le cn^{\\log_34}+n\n",
    "$$\n",
    "\n",
    "$T(n) \\le cn^{\\log_34} - an$ と仮定.\n",
    "\n",
    "$$\n",
    "\\begin{array}{llll}\n",
    "T(n) & \\le & \\displaystyle cn^{\\log_34} + (1 - \\frac{4}{3})n & \\\\\n",
    "     & \\le & \\displaystyle cn^{\\log_34} - an & (a \\ge 3)\n",
    "\\end{array}\n",
    "$$"
   ]
  },
  {
   "cell_type": "markdown",
   "id": "fcbe7630-f0ce-4c23-8007-881588603ab4",
   "metadata": {},
   "source": [
    "### 4.3-8\n",
    "***\n",
    "> 第4.5節のマスター法を用いると, 漸化式 $T(n)=4T(n/2)+n$ の解が $T(n)=\\Theta(n^2)$ であることが証明できる. 仮定 $T(n)=cn^2$ を用いた置換え法に基づく証明が破綻することを示せ. この仮定から低次の項を適切に引くことで, 置換え法に基づく証明を完成させよ. "
   ]
  },
  {
   "cell_type": "markdown",
   "id": "5337e035-5b5c-4efe-9122-c0bdc1372758",
   "metadata": {},
   "source": [
    "$T(n) \\le cn^2$ と仮定.\n",
    "\n",
    "$$\n",
    "T(n) \\le cn^2+n\n",
    "$$\n",
    "\n",
    "$T(n) \\le cn^2 - an$ と仮定.\n",
    "\n",
    "$$\n",
    "\\begin{array}{llll}\n",
    "T(n) & \\le & cn^2 + (1 - 2a)n & \\\\\n",
    "     & \\le & cn^2 - an & (a \\ge \\frac{1}{3})\n",
    "\\end{array}\n",
    "$$"
   ]
  },
  {
   "cell_type": "markdown",
   "id": "e05cb64c-cf70-4caf-b02e-c9a2e9fb3ab0",
   "metadata": {},
   "source": [
    "### 4.3-9\n",
    "***\n",
    "> 変数変換によって漸化式 $T(n)=3T(\\sqrt{n}) + \\lg n$ を解け. 解は漸近的にタイトでなければならない. 値が整数かどうかは気にしないこと. "
   ]
  },
  {
   "cell_type": "markdown",
   "id": "3041847c-e6c1-4cd3-a2f6-09988defb9e0",
   "metadata": {},
   "source": [
    "$n=2^m$ と変数変換すると,\n",
    "\n",
    "$T(2^m)=3T(2^{m/2}) + m$\n",
    "\n",
    "さらに $S(m) = T(2^m)$ とすると,\n",
    "\n",
    "$S(m) = 3S(m/2)+m$\n",
    "\n",
    "$S(m) = \\Theta(m^{\\lg 3})$\n",
    "\n",
    "よって, $T(n) = S(m) = S(\\lg n)$ より,\n",
    "\n",
    "$T(n) = \\Theta((\\lg n)^{\\lg 3})$"
   ]
  }
 ],
 "metadata": {
  "kernelspec": {
   "display_name": "Python 3 (ipykernel)",
   "language": "python",
   "name": "python3"
  },
  "language_info": {
   "codemirror_mode": {
    "name": "ipython",
    "version": 3
   },
   "file_extension": ".py",
   "mimetype": "text/x-python",
   "name": "python",
   "nbconvert_exporter": "python",
   "pygments_lexer": "ipython3",
   "version": "3.11.5"
  }
 },
 "nbformat": 4,
 "nbformat_minor": 5
}
