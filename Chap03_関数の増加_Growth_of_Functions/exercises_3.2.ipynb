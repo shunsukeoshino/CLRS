{
 "cells": [
  {
   "cell_type": "markdown",
   "id": "c02d63fa-b6e7-422d-970b-09eefc1fae29",
   "metadata": {},
   "source": [
    "## 3.2 標準的な記法と一般的な関数"
   ]
  },
  {
   "cell_type": "markdown",
   "id": "934e476c-4ef5-4257-ad11-fb5f25a128bf",
   "metadata": {},
   "source": [
    "### 3.2-1\n",
    "***\n",
    "> $f(n)$ と $g(n)$ が単調増加関数ならば, $f(n)+g(n)とf(g(n)$ も単調増加関数であることを示せ.  $f(n)$ と $g(n)$ がさらに非負ならば,  $f(n) g(n)$ が単調増加であることを示せ. "
   ]
  },
  {
   "cell_type": "markdown",
   "id": "d04accc7-cca9-4675-8db6-801c6b16884d",
   "metadata": {},
   "source": [
    "* $f(n) + g(n)$\n",
    "\n",
    "    $n \\le m$\n",
    "    \n",
    "    $f(n) \\le f(m)$ and $g(n) \\le g(m)$\n",
    "    \n",
    "    $f(n) + g(n) \\le f(m) + g(m)$\n",
    "\n",
    "\n",
    "* $f(g(n))$\n",
    "\n",
    "    $n \\le m$\n",
    "    \n",
    "    $f(n) \\le f(m)$\n",
    "    \n",
    "    $g(f(n)) \\le g(f(m))$\n",
    "\n",
    "\n",
    "* $f(n) \\cdot g(n)$\n",
    "\n",
    "    $n \\le m$\n",
    "    \n",
    "    $f(n) \\le f(m)$ and $g(n) \\le g(m)$\n",
    "    \n",
    "    $f(n) \\cdot g(n) \\le f(m) \\cdot g(m)$"
   ]
  },
  {
   "cell_type": "markdown",
   "id": "c9cf4e26-b13f-42c6-82f6-ad0cae8d00e9",
   "metadata": {},
   "source": [
    "### 3.2-2\n",
    "***\n",
    "> 式(3.16)を証明せよ."
   ]
  },
  {
   "cell_type": "markdown",
   "id": "343b0797-e952-4bd4-b866-fb09c8ca9e39",
   "metadata": {},
   "source": [
    "## $a^{log_{b}c}=a^{\\frac{log_{a}c}{log_{a}b}}=c^{\\frac{1}{log_{a}b}}=c^{log_{b}a}$"
   ]
  },
  {
   "cell_type": "markdown",
   "id": "04e1524c-91e7-4f02-a6a7-972688a7f4cd",
   "metadata": {},
   "source": [
    "### 3.2-3\n",
    "***\n",
    "> 式(3.19)を証明せよ. また, $n! = \\omega(2^n)$ と $n!=o(n^n)$ を証明せよ."
   ]
  },
  {
   "cell_type": "markdown",
   "id": "1d6dbaac-4d02-41c0-87a5-884edcee5ee8",
   "metadata": {},
   "source": [
    "### 【式(3.19)】\n",
    "$\\lg(n!)=\\Theta(n \\lg n)$"
   ]
  },
  {
   "cell_type": "markdown",
   "id": "20c83655-5e13-4eac-8a6c-b951f9a244e1",
   "metadata": {},
   "source": [
    "* $\\lg(n!)=\\Theta(n \\lg n)$\n",
    "\n",
    "    **スターリングの近似公式**\n",
    "    \n",
    "    $\\lg(n!) = \\lg(\\sqrt{2 \\pi n}\\left (\\frac{n}{e}\\right )^n e^{\\alpha n})$ $=\\lg(\\sqrt{2 \\pi n}) + \\lg(\\left (\\frac{n}{e}\\right )^n) + \\lg (e^{\\alpha n})$ $=\\Theta(\\lg \\sqrt{n}) + \\Theta(n\\lg n) + \\Theta(n)$ $=\\Theta(n\\lg n)$\n",
    "\n",
    "* $n! = \\omega(2^n)$\n",
    "\n",
    "    $n!=n \\cdot (n-1) \\cdot \\cdots \\cdot 1 \\ge 4 \\cdot 2 \\cdot \\cdots \\cdot 2 \\cdot 1 = 2^n$\n",
    "\n",
    "* $n!=o(n^n)$\n",
    "\n",
    "    $n!=n \\cdot (n-1) \\cdot \\cdots \\cdot 1 \\le n \\cdot n \\cdot \\cdots \\cdot n = n^n$"
   ]
  },
  {
   "cell_type": "markdown",
   "id": "6f2c0027-404f-4e97-a91b-6d2938eb68be",
   "metadata": {},
   "source": [
    "### 3.2-4\n",
    "***\n",
    "> ★関数 $\\left \\lceil \\lg n \\right \\rceil!$ は多項式的に限定されているか?　関数 $\\left \\lceil \\lg \\lg n \\right \\rceil!$ はどうか?"
   ]
  },
  {
   "cell_type": "markdown",
   "id": "8c140f9e-98bf-4f1c-a7c9-40447098470d",
   "metadata": {},
   "source": [
    "* $\\left \\lceil \\lg n \\right \\rceil!$\n",
    "\n",
    "    $\\left \\lceil \\lg n \\right \\rceil!$ $= \\sqrt{2 \\pi \\lg n}\\left (\\frac{\\lg n}{e}\\right )^{\\lg n} e^{\\alpha \\lg n}$ $= \\Theta((\\lg n)^{\\lg n})$\n",
    "    \n",
    "    $\\lg \\left \\lceil \\lg n \\right \\rceil!$ $= \\Theta(\\lg n \\lg \\lg n)$\n",
    "    \n",
    "    $\\lg n^p$ $=\\Theta(\\lg n)$\n",
    "    \n",
    "    $\\Theta(\\lg n \\lg \\lg n) > \\Theta(\\lg n)$\n",
    "    \n",
    "    $\\therefore$ 限定されていない.\n",
    "    \n",
    "* $\\left \\lceil \\lg \\lg n \\right \\rceil!$\n",
    "    \n",
    "    $\\left \\lceil \\lg \\lg n \\right \\rceil!$ $= \\Theta((\\lg\\lg n)^{\\lg \\lg n})$\n",
    "    \n",
    "    $\\lg \\left \\lceil \\lg \\lg n \\right \\rceil!$ $= \\Theta(\\lg \\lg n \\lg \\lg \\lg n)$ $=o(\\lg^2\\lg n)$\n",
    "    \n",
    "    $\\because$ $\\lg^bn=o(n^a)$\n",
    "    \n",
    "    $\\therefore$ $o(\\lg^2\\lg n)$ $=o(\\lg n)$, は限定されている."
   ]
  },
  {
   "cell_type": "markdown",
   "id": "0a0ccaa6-42cd-433c-a8e6-255d13e10860",
   "metadata": {},
   "source": [
    "### 3.2-5\n",
    "***\n",
    "> ★関数 $\\lg (\\lg^{\\ast}n)$ と $\\lg^{\\ast}(\\lg n)$ ではどちらが漸近的に大きいか? "
   ]
  },
  {
   "cell_type": "markdown",
   "id": "7b0bcb79-544c-4328-9bcd-c22cc44e40c2",
   "metadata": {},
   "source": [
    "$\\lg (\\lg^{\\ast} (2^m))$ and $\\lg^{\\ast}(\\lg (2^m))$\n",
    "\n",
    "$\\lg (1 + \\lg^{\\ast}m)$ and $\\lg^{\\ast}m$\n",
    "\n",
    "$\\because$ $\\lg (x)$ < $x$\n",
    "\n",
    "$\\lg^{\\ast}(\\lg n)$ は $\\lg (\\lg^{\\ast}n)$ よりも漸近的に大きくなる。"
   ]
  },
  {
   "cell_type": "markdown",
   "id": "e1f1cb5f-9965-4c18-85a2-b34867f4b4c8",
   "metadata": {},
   "source": [
    "### 3.2-6\n",
    "****\n",
    "> 黄金比 $\\phi$ とその共役 $\\hat{\\phi}$ は共に方程式 $x^2=x+1$ を満たすことを示せ."
   ]
  },
  {
   "cell_type": "markdown",
   "id": "e48b8b1e-06c0-4252-a496-69fad862238f",
   "metadata": {},
   "source": [
    "$\\phi = \\frac{1 + \\sqrt{5}}{2}$\n",
    "\n",
    "$\\phi^2=\\frac{6+2\\sqrt{5}}{4}=\\frac{1 + \\sqrt{5}}{2} + 1 = \\phi + 1$\n",
    "\n",
    "$\\hat{\\phi} = \\frac{1 - \\sqrt{5}}{2}$\n",
    "\n",
    "$\\hat{\\phi}^2=\\frac{6-2\\sqrt{5}}{4}=\\frac{1 - \\sqrt{5}}{2} + 1 = \\hat{\\phi} + 1$"
   ]
  },
  {
   "cell_type": "markdown",
   "id": "2a45e071-1ffe-44b4-9f48-45f24d8417cf",
   "metadata": {},
   "source": [
    "### 3.2-7\n",
    "***\n",
    "> 帰納法を用いてi番目のフィポナッチ数が等号\n",
    "> \n",
    "> $$F_i=\\frac{\\phi^{i}-\\hat{\\phi^i}}{\\sqrt{5}}$$\n",
    "> \n",
    "> を満たすことを証明せよ. ただし, $\\phi$ は黄金比, $\\hat{\\phi}$ はその共役である. "
   ]
  },
  {
   "cell_type": "markdown",
   "id": "ba82a629-d3fb-4289-8120-fa28043c2667",
   "metadata": {},
   "source": [
    "$F_0=0$, $\\frac{\\phi^{0}-\\hat{\\phi^0}}{\\sqrt{5}}=0$\n",
    "\n",
    "$F_1=1$, $\\frac{\\phi-\\hat{\\phi}}{\\sqrt{5}}=1$\n",
    "\n",
    "$F_{i-2}=\\frac{\\phi^{i-2}-\\hat{\\phi^{i-2}}}{\\sqrt{5}}$,  $F_{i-1}=\\frac{\\phi^{i-1}-\\hat{\\phi^{i-1}}}{\\sqrt{5}}$ とする\n",
    "\n",
    "$F_i=F_{i-2}+F_{i-1}=\\frac{1}{\\sqrt{5}}(\\phi^{i-2}-\\hat{\\phi^{i-2}} + \\phi^{i-1}-\\hat{\\phi^{i-1}})$\n",
    "\n",
    "3.2-6より, \n",
    "\n",
    "$\\phi^{i-2} + \\phi^{i-1} = \\phi^{i-2}(1+\\phi) = \\phi^{i-2}\\phi^2 = \\phi ^ i$\n",
    "\n",
    "$\\therefore$ $F_i=\\frac{\\phi^{i}-\\hat{\\phi^i}}{\\sqrt{5}}$"
   ]
  },
  {
   "cell_type": "markdown",
   "id": "a876f9ba-8c98-4875-a76a-dec61cfd70f7",
   "metadata": {},
   "source": [
    "### 3.2-8\n",
    "***\n",
    "> $k \\ln k = \\Theta(n)$ ならば $k = \\Theta(n / \\ln n)$ であることを示せ. "
   ]
  },
  {
   "cell_type": "markdown",
   "id": "3a67cb54-4899-4be9-88a9-83482e645d3d",
   "metadata": {},
   "source": [
    "$c_1n \\le k \\ln k \\le c_2n$\n",
    "\n",
    "$\\ln (c_1n) \\le \\ln(k \\ln k) \\le \\ln (c_2n)$\n",
    "\n",
    "$\\ln c_1 + \\ln n \\le \\ln k + \\ln \\ln k \\le \\ln c_2 + \\ln n$\n",
    "\n",
    "$\\because$ $\\ln k + \\ln \\ln k \\le 2\\ln k \\ge \\ln c_1 + \\ln n$\n",
    "\n",
    "$\\therefore$ $\\frac{\\ln k}{\\ln n} \\ge \\frac{1}{2}$\n",
    "\n",
    "$\\because$ $\\ln k + \\ln \\ln k \\ge \\ln k \\le \\ln c_2 + \\ln n$\n",
    "\n",
    "$\\therefore$ $\\frac{\\ln k}{\\ln n} \\le 1$\n",
    "\n",
    "$\\because$ $c_1n \\le k \\ln k \\le c_2n$\n",
    "\n",
    "$\\therefore$ $\\frac{c_1 n}{\\ln n} \\le \\frac{k \\ln k}{\\ln n} \\le \\frac{c_2 n}{\\ln n}$\n",
    "\n",
    "$\\therefore$ $\\frac{c_1 n}{\\ln n} \\le \\frac{k \\ln k}{\\ln n} \\le k$ and $\\frac{c_2 n}{\\ln n} \\ge \\frac{k \\ln k}{\\ln n} \\ge \\frac{1}{2}k$\n",
    "\n",
    "$\\therefore$ $c_1\\frac{n}{\\ln n} \\le k \\le (2c_2)\\frac{n}{\\ln n}$\n",
    "\n",
    "$\\therefore$ $k = \\Theta(n / \\ln n)$"
   ]
  }
 ],
 "metadata": {
  "kernelspec": {
   "display_name": "Python 3 (ipykernel)",
   "language": "python",
   "name": "python3"
  },
  "language_info": {
   "codemirror_mode": {
    "name": "ipython",
    "version": 3
   },
   "file_extension": ".py",
   "mimetype": "text/x-python",
   "name": "python",
   "nbconvert_exporter": "python",
   "pygments_lexer": "ipython3",
   "version": "3.11.5"
  }
 },
 "nbformat": 4,
 "nbformat_minor": 5
}
