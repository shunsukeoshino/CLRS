{
 "cells": [
  {
   "cell_type": "markdown",
   "id": "c02d63fa-b6e7-422d-970b-09eefc1fae29",
   "metadata": {},
   "source": [
    "## 3.1 漸近記法"
   ]
  },
  {
   "cell_type": "markdown",
   "id": "934e476c-4ef5-4257-ad11-fb5f25a128bf",
   "metadata": {},
   "source": [
    "### 3.1-1\n",
    "***\n",
    "> $f(n)$ と $g(n)$ を漸近的に非負の関数とする. $\\Theta$ 記法の基本的な定義を用いて, $\\max(f(n), g(n)) = \\Theta (f(n) + g(n))$ であることを証明せよ."
   ]
  },
  {
   "cell_type": "markdown",
   "id": "24cc8ead-d034-4d43-b40e-5613ea42df3e",
   "metadata": {},
   "source": [
    "$\\Theta$ 記法の定義によれば、関数 $h(n)$ が $\\Theta(g(n))$ であるためには、正の定数 $c_1, c_2$ および自然数 $n_0$ が存在し、全ての $n \\geq n_0$ において次が成立する必要があります：\n",
    "\n",
    "$$\n",
    "c_1 g(n) \\leq h(n) \\leq c_2 g(n)\n",
    "$$\n",
    "\n",
    "この基準を使用して、 $\\max(f(n), g(n))$ が $\\Theta(f(n) + g(n))$ であることを証明します。\n",
    "\n",
    "#### 証明:\n",
    "\n",
    "1. **下界 (Lower Bound)**:\n",
    "   $\\max(f(n), g(n))$ は常に $f(n)$ または $g(n)$ のいずれか大きい方の値を取るので、少なくとも $f(n)$ または $g(n)$ と等しいかそれ以上です。したがって、\n",
    "   \n",
    "   $$\\max(f(n), g(n)) \\geq \\frac{1}{2}(f(n) + g(n))$$\n",
    "   \n",
    "   が成立します。ここで、 $c_1 = \\frac{1}{2}$ と設定します。\n",
    "\n",
    "3. **上界 (Upper Bound)**:\n",
    "   $\\max(f(n), g(n))$ は $f(n) + g(n)$ よりも常に小さいか等しいです。なぜなら、最大値は合計値を超えることができないからです。したがって、\n",
    "   \n",
    "   $$\\max(f(n), g(n)) \\leq f(n) + g(n)$$\n",
    "   \n",
    "   が成立します。ここで、 $c_2 = 1$ と設定します。\n",
    "\n",
    "これらの条件から、全ての $n \\geq n_0$（ $n_0$ を適当に選ぶ）において、\n",
    "\n",
    "$$\\frac{1}{2}(f(n) + g(n)) \\leq \\max(f(n), g(n)) \\leq f(n) + g(n)$$\n",
    "\n",
    "が成立します。これにより、\n",
    "\n",
    "$$\\max(f(n), g(n)) = \\Theta(f(n) + g(n))$$\n",
    "\n",
    "が証明されます。"
   ]
  },
  {
   "cell_type": "markdown",
   "id": "c9cf4e26-b13f-42c6-82f6-ad0cae8d00e9",
   "metadata": {},
   "source": [
    "### 3.1-2\n",
    "***\n",
    "> 任意の実定数 $a$ と実正定数 $b>0$ に対して $(n+a)^b=\\Theta(n^b)$ であることを示せ. "
   ]
  },
  {
   "cell_type": "markdown",
   "id": "343b0797-e952-4bd4-b866-fb09c8ca9e39",
   "metadata": {},
   "source": [
    "関数 $h(n) = (n+a)^b$ が $\\Theta(g(n))$、ここで $g(n) = n^b$、であるためには、正の定数 $c_1, c_2$ および自然数 $n_0$ が存在し、すべての $n \\geq n_0$ において\n",
    "\n",
    "$$c_1 n^b \\leq (n+a)^b \\leq c_2 n^b$$\n",
    "\n",
    "が成立する必要があります。\n",
    "\n",
    "**上限**: \n",
    "\n",
    "$$(n+a)^b = n^b \\left(1 + \\frac{a}{n}\\right)^b \\approx n^b \\left(1 + b \\frac{a}{n}\\right)$$\n",
    "\n",
    "上記から、定数 $c_2 > 1$ を選べば、 $(n+a)^b \\leq c_2 n^b$ が成立します。\n",
    "\n",
    "**下限**: \n",
    "\n",
    "$$(n+a)^b \\geq n^b$$\n",
    "\n",
    "を使用し、定数 $c_1 = 1$ を選べば、 $(n+a)^b \\geq c_1 n^b$ が成立します。\n",
    "\n",
    "これにより、十分大きな $n$ に対して $(n+a)^b = \\Theta(n^b)$ が示されます。"
   ]
  },
  {
   "cell_type": "markdown",
   "id": "59d50f6e-1044-45d6-9d04-ed8d867079dd",
   "metadata": {},
   "source": [
    "### **【別解】**\n",
    "\n",
    "\n",
    "$a$ は実定数で、 $b > 0$ は実正定数です。$n^b$ に対する $(n+a)^b$ の振る舞いを比較します。\n",
    "\n",
    "まず、次のような不等式を考えます：\n",
    "\n",
    "$$(n+a)^b = n^b \\left(1 + \\frac{a}{n}\\right)^b$$\n",
    "\n",
    "ビネの公式または二項展開により、 $\\left(1 + \\frac{a}{n}\\right)^b$ は $n$ が大きくなるにつれて 1 に収束します。正確には、\n",
    "\n",
    "$$\\left(1 + \\frac{a}{n}\\right)^b \\sim 1 + b\\frac{a}{n}$$\n",
    "\n",
    "であり、これは $n \\to \\infty$ で $1$ に収束するため、 $(n+a)^b = \\Theta(n^b)$ が成立します。"
   ]
  },
  {
   "cell_type": "markdown",
   "id": "04e1524c-91e7-4f02-a6a7-972688a7f4cd",
   "metadata": {},
   "source": [
    "### 3.1-3\n",
    "***\n",
    "> 文「アルゴリズム $A$ の実行時間は少なくとも $O(n^2)$ である」が無意味である理由を説明せよ. "
   ]
  },
  {
   "cell_type": "markdown",
   "id": "bf2f137d-7a50-43eb-ac23-9e42fcbecd99",
   "metadata": {},
   "source": [
    "$O$ 表記は上限（最悪の場合の境界）を意味します。したがって、「少なくとも $O(n^2)$」という表現は、「 $n^2$ よりも速くないことが保証されている」と読むことができますが、これは意味がありません。\n",
    "\n",
    "なぜなら、 $O(n^2)$ は $n^2$ よりも悪くないという上限を示しているからです。"
   ]
  },
  {
   "cell_type": "markdown",
   "id": "6f2c0027-404f-4e97-a91b-6d2938eb68be",
   "metadata": {},
   "source": [
    "### 3.1-4\n",
    "***\n",
    "> $2^{n+1}=O(2^n)$ は成立するか? $2^{2n}=O(2^n)$ はどうか?"
   ]
  },
  {
   "cell_type": "markdown",
   "id": "8c140f9e-98bf-4f1c-a7c9-40447098470d",
   "metadata": {},
   "source": [
    "$2^{n+1} = 2 \\cdot 2^n$ であり、これは $2^n$ の定数倍です。したがって、 $2^{n+1} = O(2^n)$ は成立します。\n",
    "\n",
    "一方で、 $2^{2n} = (2^n)^2$ であり、これは $2^n$ の二乗です。従って、 $2^{2n}$ は $2^n$ に対して指数関数的に増加するため、 $2^{2n} = O(2^n)$ は成立しません。"
   ]
  },
  {
   "cell_type": "markdown",
   "id": "0a0ccaa6-42cd-433c-a8e6-255d13e10860",
   "metadata": {},
   "source": [
    "### 3.1-5\n",
    "***\n",
    "> 定理3.1を証明せよ"
   ]
  },
  {
   "cell_type": "markdown",
   "id": "dfed520a-fcd1-43e4-bf6a-7741029cd7f5",
   "metadata": {},
   "source": [
    "### 【定理3.1】\n",
    "任意の2つの関数 $f(n)$ と $g(n)$ に対して, $f(n)=\\Theta(g(n))$ であるための必要十分条件は $f(n)=O(g(n)$ かつ $f(n)= \\Omega(g(n))$ である. "
   ]
  },
  {
   "cell_type": "markdown",
   "id": "ffcbe7ea-7208-4b0b-be58-7323e58a5950",
   "metadata": {},
   "source": [
    "####  【 $f(n)=\\Theta(g(n))$ の必要十分条件の証明】\n",
    "\n",
    "$f(n)=\\Theta(g(n))$ であるとは、関数 $f(n)$ と $g(n)$ が同じ成長率を持つことを意味します。具体的には、正の定数 $c_1, c_2$ および自然数 $n_0$ が存在し、すべての $n \\geq n_0$ において\n",
    "\n",
    "$$c_1 g(n) \\leq f(n) \\leq c_2 g(n)$$\n",
    "\n",
    "が成立することです。\n",
    "\n",
    "**十分条件**: $f(n)=O(g(n))$ かつ $f(n)=\\Omega(g(n))$ であれば、定義により、ある定数 $c_2$ と $n_1$ が存在して、 $n \\geq n_1$ に対して $f(n) \\leq c_2 g(n)$ が成立します。また、 $f(n)=\\Omega(g(n))$ であるためには、ある定数 $c_1$ と $n_2$ が存在して、 $n \\geq n_2$ に対して $f(n) \\geq c_1 g(n)$ が成立します。したがって、 $n_0 = \\max(n_1, n_2)$ として、すべての $n \\geq n_0$ で上記の $\\Theta$ の定義を満たします。\n",
    "\n",
    "**必要条件**: $f(n)=\\Theta(g(n))$ である場合、上記の定義から直接 $f(n)=O(g(n))$ および $f(n)=\\Omega(g(n))$ が導かれます。"
   ]
  },
  {
   "cell_type": "markdown",
   "id": "e1f1cb5f-9965-4c18-85a2-b34867f4b4c8",
   "metadata": {},
   "source": [
    "### 3.1-6\n",
    "****\n",
    "> アルゴリズムの実行時間が $\\Theta(g(n))$ であるための必要十分条件は, その最悪実行時間が $O(g(n))$ であり, かつその最良実行時間が $\\Omega(g(n))$ であることを証明せよ. "
   ]
  },
  {
   "cell_type": "markdown",
   "id": "85c328c1-4725-4ccf-802f-e059cb06bd7d",
   "metadata": {},
   "source": [
    "$\\Theta(g(n))$ は $g(n)$ によって正確に境界付けられることを意味します。つまり、ある正の定数 $c_1, c_2$ と十分に大きな $n$ が存在して、\n",
    "\n",
    "$$c_1 g(n) \\leq T(n) \\leq c_2 g(n)$$\n",
    "\n",
    "が成立します。これは、 $T(n)$ が $O(g(n))$（ $T(n) \\leq c_2 g(n)$ ）および $\\Omega(g(n))$（ $T(n) \\geq c_1 g(n)$ ）の両方であることを意味します。このことから、 $\\Theta(g(n))$ が $O(g(n))$ かつ  $\\Omega(g(n))$ であることが必要十分であることがわかります。"
   ]
  },
  {
   "cell_type": "markdown",
   "id": "2a45e071-1ffe-44b4-9f48-45f24d8417cf",
   "metadata": {},
   "source": [
    "### 3.1-7\n",
    "***\n",
    "> $o(g(n)) \\cap \\omega(g(n))$ が空集合であることを証明せよ."
   ]
  },
  {
   "cell_type": "markdown",
   "id": "ba82a629-d3fb-4289-8120-fa28043c2667",
   "metadata": {},
   "source": [
    "$o(g(n))$ は $g(n)$ よりも厳密に遅く増加する関数の集合を示し、 $\\omega(g(n))$ は $g(n)$ よりも厳密に速く増加する関数の集合を示します。明らかに、これら二つの性質は同時に成立することができません。\n",
    "\n",
    "なぜなら、ある関数が $g(n)$ よりも厳密に速く増加しつつ、同時に厳密に遅く増加することは不可能だからです。従って、 $o(g(n)) \\cap \\omega(g(n))$ は空集合です。"
   ]
  },
  {
   "cell_type": "markdown",
   "id": "a876f9ba-8c98-4875-a76a-dec61cfd70f7",
   "metadata": {},
   "source": [
    "### 3.1-8\n",
    "***\n",
    "> 2つの引数 $m$ と $n$ が独立に異なる速度で無限大に発散する場合を含むように記法を拡張できる. 与えられた関数 $g(n,m)$ に対して, $O(g(n,m))$ によって関数の集合\n",
    ">\n",
    "> $O(g(n,m))= {f(n,m) : 正定数 c, n_0, m_0 が存在して, n \\ge n_0 あるいは m \\ge m_0 を満たすすべての n, m に対して 0 \\le f(n,m) \\le c g(n,m) を満たす}$\n",
    "> \n",
    "> を表す. $\\Omega(g(n,m))$ と $\\Theta(g(n,m))$ について対応する定義を求めよ."
   ]
  },
  {
   "cell_type": "markdown",
   "id": "831f6382-4a4a-4cf4-aa1e-3b9532513527",
   "metadata": {},
   "source": [
    "与えられた定義に基づき、 $O(g(n,m))$ は次のように定義されます：\n",
    "\n",
    "$$O(g(n,m))= \\{f(n,m) : \\exists c > 0, n_0, m_0 \\text{ で } n \\ge n_0 \\text{ または } m \\ge m_0 \\text{ を満たすすべての } n, m \\text{ に対して } 0 \\le f(n,m) \\le c g(n,m)\\}$$\n",
    "\n",
    "**$\\Omega(g(n,m))$ の定義**:\n",
    "\n",
    "$$\\Omega(g(n,m))= \\{f(n,m) : \\exists c > 0, n_0, m_0 \\text{ で } n \\ge n_0 \\text{ または } m \\ge m_0 \\text{ を満たすすべての } n, m \\text{ に対して } 0 \\le c g(n,m) \\le f(n,m)\\}$$\n",
    "\n",
    "**$\\Theta(g(n,m))$ の定義**:\n",
    "\n",
    "$$\\Theta(g(n,m))= \\{f(n,m) : \\exists c_1 > 0, c_2 > 0, n_0, m_0 \\text{ で } n \\ge n_0 \\text{ または } m \\ge m_0 \\text{ を満たすすべての } n, m \\text{ に対して } c_1 g(n,m) \\le f(n,m) \\le c_2 g(n,m)\\}$$"
   ]
  }
 ],
 "metadata": {
  "kernelspec": {
   "display_name": "Python 3 (ipykernel)",
   "language": "python",
   "name": "python3"
  },
  "language_info": {
   "codemirror_mode": {
    "name": "ipython",
    "version": 3
   },
   "file_extension": ".py",
   "mimetype": "text/x-python",
   "name": "python",
   "nbconvert_exporter": "python",
   "pygments_lexer": "ipython3",
   "version": "3.11.5"
  }
 },
 "nbformat": 4,
 "nbformat_minor": 5
}
